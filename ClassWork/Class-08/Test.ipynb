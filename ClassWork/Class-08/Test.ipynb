{
 "cells": [
  {
   "cell_type": "code",
   "execution_count": 32,
   "id": "19f0b445-03b4-45e6-9ea4-c3b46f445a43",
   "metadata": {},
   "outputs": [],
   "source": [
    "# Chapter 11"
   ]
  },
  {
   "cell_type": "code",
   "execution_count": 33,
   "id": "2bb187fb-7170-40b0-a625-80fbe24bbae5",
   "metadata": {},
   "outputs": [],
   "source": [
    "# Recursion vs Iteration"
   ]
  },
  {
   "cell_type": "code",
   "execution_count": 2,
   "id": "84582daf-f106-4caf-a5d5-de948be42cd3",
   "metadata": {},
   "outputs": [],
   "source": [
    "def factorial(n):\n",
    "    if n < 0:\n",
    "        return \"Invalid number\"\n",
    "    if n in [0, 1]:\n",
    "        return 1\n",
    "    return n * factorial(n - 1)"
   ]
  },
  {
   "cell_type": "code",
   "execution_count": 3,
   "id": "e7dcdff5-f049-4bd5-8c33-0c77e6d01eab",
   "metadata": {},
   "outputs": [],
   "source": [
    "def factorial2(n):\n",
    "    fact = 1\n",
    "    for i in range(1, n + 1):\n",
    "        fact *= i\n",
    "    return fact"
   ]
  },
  {
   "cell_type": "code",
   "execution_count": 4,
   "id": "a1b209aa-9ff6-4dbb-9801-0f8a77c4d241",
   "metadata": {},
   "outputs": [
    {
     "name": "stdout",
     "output_type": "stream",
     "text": [
      "0! : 1\n",
      "1! : 1\n",
      "2! : 2\n",
      "3! : 6\n",
      "4! : 24\n",
      "5! : 120\n",
      "6! : 720\n",
      "7! : 5040\n",
      "8! : 40320\n",
      "9! : 362880\n",
      "10! : 3628800\n"
     ]
    }
   ],
   "source": [
    "for i in range(11):\n",
    "    print(f\"{i}! : {factorial(i)}\")"
   ]
  },
  {
   "cell_type": "code",
   "execution_count": 5,
   "id": "a4fb6ba9-0a08-422d-acc5-ac8c0e23b81d",
   "metadata": {},
   "outputs": [
    {
     "name": "stdout",
     "output_type": "stream",
     "text": [
      "0! : 1\n",
      "1! : 1\n",
      "2! : 2\n",
      "3! : 6\n",
      "4! : 24\n",
      "5! : 120\n",
      "6! : 720\n",
      "7! : 5040\n",
      "8! : 40320\n",
      "9! : 362880\n",
      "10! : 3628800\n"
     ]
    }
   ],
   "source": [
    "for i in range(11):\n",
    "    print(f\"{i}! : {factorial(i)}\")"
   ]
  },
  {
   "cell_type": "code",
   "execution_count": 27,
   "id": "676aa451-087d-4ca6-96b7-4e1af93d0a65",
   "metadata": {},
   "outputs": [],
   "source": [
    "def fibonacci(n):\n",
    "    if n in [0, 1]:\n",
    "        return n\n",
    "    return fibonacci(n - 1) + fibonacci(n - 2)"
   ]
  },
  {
   "cell_type": "code",
   "execution_count": 26,
   "id": "eca49293-28e4-4503-99b4-fea54e34210f",
   "metadata": {},
   "outputs": [],
   "source": [
    "def fibonacci2(n):\n",
    "    if n in [0, 1]:\n",
    "        return n\n",
    "\n",
    "    first, second = 0, 1\n",
    "    for _ in range(2, n + 1):\n",
    "       first, second = second, first + second\n",
    "    return second"
   ]
  },
  {
   "cell_type": "code",
   "execution_count": 30,
   "id": "0b0a548e-bd5c-4e25-8a4e-b72e8cc17a8e",
   "metadata": {},
   "outputs": [
    {
     "name": "stdout",
     "output_type": "stream",
     "text": [
      "0 1 1 2 3 5 8 13 21 34 55 "
     ]
    }
   ],
   "source": [
    "for i in range(11):\n",
    "    print(f\"{fibonacci(i)}\", end = ' ')"
   ]
  },
  {
   "cell_type": "code",
   "execution_count": 31,
   "id": "e4cd4ac1-477d-40ae-bd9e-fd149a419d7b",
   "metadata": {},
   "outputs": [
    {
     "name": "stdout",
     "output_type": "stream",
     "text": [
      "0 1 1 2 3 5 8 13 21 34 55 "
     ]
    }
   ],
   "source": [
    "for i in range(11):\n",
    "    print(f\"{fibonacci2(i)}\", end = ' ')"
   ]
  },
  {
   "cell_type": "code",
   "execution_count": 49,
   "id": "8941cfbb-ff72-487d-8146-6d428ad7b593",
   "metadata": {},
   "outputs": [],
   "source": [
    "# Searching"
   ]
  },
  {
   "cell_type": "code",
   "execution_count": 52,
   "id": "aefe0958-b932-410e-9fa8-8dada578deb2",
   "metadata": {},
   "outputs": [],
   "source": [
    "import numpy as np"
   ]
  },
  {
   "cell_type": "code",
   "execution_count": 69,
   "id": "09fd56b0-072d-4cdd-b95c-b414e9ebbb58",
   "metadata": {},
   "outputs": [
    {
     "data": {
      "text/plain": [
       "array([37, 18, 91, 31, 78, 58, 50, 70, 84, 23, 78, 66, 53, 69, 72, 38, 33,\n",
       "        7, 87, 16])"
      ]
     },
     "execution_count": 69,
     "metadata": {},
     "output_type": "execute_result"
    }
   ],
   "source": [
    "arr = np.random.randint(1, 101, 20)\n",
    "arr"
   ]
  },
  {
   "cell_type": "code",
   "execution_count": 70,
   "id": "7cc717c4-6b59-481c-bb0e-692f96cf6742",
   "metadata": {},
   "outputs": [],
   "source": [
    "def linear_search(arr, key):\n",
    "    for i in range(len(arr)):\n",
    "        if arr[i] == key:\n",
    "            return i\n",
    "    return -1"
   ]
  },
  {
   "cell_type": "code",
   "execution_count": 71,
   "id": "1d331c66-dce0-454c-9a81-be2969aca0f5",
   "metadata": {},
   "outputs": [
    {
     "data": {
      "text/plain": [
       "6"
      ]
     },
     "execution_count": 71,
     "metadata": {},
     "output_type": "execute_result"
    }
   ],
   "source": [
    "linear_search(arr, 50)"
   ]
  },
  {
   "cell_type": "code",
   "execution_count": 47,
   "id": "fe5c99cc-ad79-4972-8afe-e5914f33b589",
   "metadata": {},
   "outputs": [],
   "source": [
    "def binary_search(arr, key):\n",
    "    left, right = 0, len(arr) - 1\n",
    "    while (left <= right):\n",
    "        mid = left + ((right - left) // 2)\n",
    "        if arr[mid] == key:\n",
    "            return mid\n",
    "        elif arr[mid] > key:\n",
    "            right = mid - 1\n",
    "        else:\n",
    "            left = mid + 1\n",
    "    return -1"
   ]
  },
  {
   "cell_type": "code",
   "execution_count": 87,
   "id": "e94fb95f-5cda-4c04-8edb-8ad394f60d50",
   "metadata": {},
   "outputs": [
    {
     "data": {
      "text/plain": [
       "13"
      ]
     },
     "execution_count": 87,
     "metadata": {},
     "output_type": "execute_result"
    }
   ],
   "source": [
    "binary_search(np.sort(arr), 70)"
   ]
  },
  {
   "cell_type": "code",
   "execution_count": 85,
   "id": "fedd954c-dfb5-48b3-b322-34d7acf321bf",
   "metadata": {},
   "outputs": [],
   "source": [
    "def find_duplicate(arr):\n",
    "    for i in range(len(arr)):\n",
    "        for j in range(i + 1, len(arr)):\n",
    "            if arr[i] == arr[j]:\n",
    "                return arr[i]\n",
    "    return -1"
   ]
  },
  {
   "cell_type": "code",
   "execution_count": 86,
   "id": "4c5ae86a-98b4-47ea-a640-ef25628a3c57",
   "metadata": {},
   "outputs": [
    {
     "data": {
      "text/plain": [
       "2"
      ]
     },
     "execution_count": 86,
     "metadata": {},
     "output_type": "execute_result"
    }
   ],
   "source": [
    "li = [1,2,3,4,4,5,2]\n",
    "find_duplicate(li)"
   ]
  }
 ],
 "metadata": {
  "kernelspec": {
   "display_name": "Python 3 (ipykernel)",
   "language": "python",
   "name": "python3"
  },
  "language_info": {
   "codemirror_mode": {
    "name": "ipython",
    "version": 3
   },
   "file_extension": ".py",
   "mimetype": "text/x-python",
   "name": "python",
   "nbconvert_exporter": "python",
   "pygments_lexer": "ipython3",
   "version": "3.11.7"
  }
 },
 "nbformat": 4,
 "nbformat_minor": 5
}
