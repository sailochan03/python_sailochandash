{
 "cells": [
  {
   "cell_type": "code",
   "execution_count": 1,
   "id": "defaf8d1-260b-40a4-9278-3c82a86501d1",
   "metadata": {},
   "outputs": [],
   "source": [
    "# Merge Sort"
   ]
  },
  {
   "cell_type": "code",
   "execution_count": 2,
   "id": "e4b8da5e-3837-451f-bcef-bae4d81f4f34",
   "metadata": {},
   "outputs": [],
   "source": [
    "def sort(data):\n",
    "    merge(data, 0, len(data) - 1)"
   ]
  },
  {
   "cell_type": "code",
   "execution_count": 3,
   "id": "342cbe77-edb8-4013-ba5d-9742219d63c9",
   "metadata": {},
   "outputs": [],
   "source": [
    "def merge(data, low, high):\n",
    "    if high > low:\n",
    "        mid1 = (low + high) // 2\n",
    "        mid2 = mid1 + 1\n",
    "\n",
    "        merge(data, low, mid1)\n",
    "        merge(data, mid2, high)\n",
    "\n",
    "        merge_array(data, low, mid1, mid2, high)"
   ]
  },
  {
   "cell_type": "code",
   "execution_count": 7,
   "id": "9a42abad-8cf4-40a7-ad11-67270987d691",
   "metadata": {},
   "outputs": [],
   "source": [
    "def merge_array(data, low, m1, m2, high):\n",
    "    l_index = low\n",
    "    r_index = m2\n",
    "    c_index = low\n",
    "\n",
    "    merged = [0] * len(data)\n",
    "\n",
    "    while l_index <= m1 and r_index <= high:\n",
    "        if data[l_index] < data[r_index]:\n",
    "            merged[c_index] = data[l_index]\n",
    "            l_index += 1\n",
    "        else:\n",
    "            merged[c_index] = data[r_index]\n",
    "            r_index += 1\n",
    "        c_index += 1\n",
    "\n",
    "    if l_index <= m1:\n",
    "        merged[c_index : high + 1] = data[l_index : m1 + 1]\n",
    "    else:\n",
    "        merged[c_index : high + 1] = data[r_index : high + 1]\n",
    "\n",
    "    data[low:high + 1] = merged[low:high + 1]"
   ]
  },
  {
   "cell_type": "code",
   "execution_count": 8,
   "id": "49a0ed3c-694f-43e0-b532-365b903ba518",
   "metadata": {},
   "outputs": [],
   "source": [
    "import numpy as np"
   ]
  },
  {
   "cell_type": "code",
   "execution_count": 9,
   "id": "e8f21b1f-bd34-4eae-9a19-a783d900b681",
   "metadata": {},
   "outputs": [
    {
     "name": "stdout",
     "output_type": "stream",
     "text": [
      "Unsorted data: [110  31  55  77 107  56  88  47  46  76  93  95  54  86  56]\n",
      "Sorted Data: [ 31  46  47  54  55  56  56  76  77  86  88  93  95 107 110]\n"
     ]
    }
   ],
   "source": [
    "data = np.random.randint(11, 111, 15)\n",
    "print(f\"Unsorted data: {data}\")\n",
    "sort(data)\n",
    "print(f\"Sorted Data: {data}\")"
   ]
  }
 ],
 "metadata": {
  "kernelspec": {
   "display_name": "Python 3 (ipykernel)",
   "language": "python",
   "name": "python3"
  },
  "language_info": {
   "codemirror_mode": {
    "name": "ipython",
    "version": 3
   },
   "file_extension": ".py",
   "mimetype": "text/x-python",
   "name": "python",
   "nbconvert_exporter": "python",
   "pygments_lexer": "ipython3",
   "version": "3.11.7"
  }
 },
 "nbformat": 4,
 "nbformat_minor": 5
}
