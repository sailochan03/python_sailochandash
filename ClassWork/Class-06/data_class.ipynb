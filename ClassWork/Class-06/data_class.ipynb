{
 "cells": [
  {
   "cell_type": "code",
   "execution_count": 6,
   "id": "aa184f9f-4fd6-4ee9-ba35-4f8670d9ce4f",
   "metadata": {},
   "outputs": [],
   "source": [
    "from dataclasses import dataclass\n",
    "from typing import ClassVar, List"
   ]
  },
  {
   "cell_type": "code",
   "execution_count": 7,
   "id": "c4947147-f62b-400a-b5f2-2accab29a9bb",
   "metadata": {},
   "outputs": [],
   "source": [
    "@dataclass\n",
    "class Card:\n",
    "    FACES: ClassVar[List[str]] = ['Ace', '2']\n",
    "    face: str\n",
    "    suit: str\n",
    "\n",
    "    def card_name(self):\n",
    "        return f'{self.face} of {self.suit}'"
   ]
  },
  {
   "cell_type": "code",
   "execution_count": 8,
   "id": "300fc317-b7e8-4837-8cb3-855e0b7af6ad",
   "metadata": {},
   "outputs": [
    {
     "name": "stdout",
     "output_type": "stream",
     "text": [
      "Card(face='King', suit='hearts')\n"
     ]
    }
   ],
   "source": [
    "card = Card('King', 'hearts')\n",
    "print(card)"
   ]
  }
 ],
 "metadata": {
  "kernelspec": {
   "display_name": "Python 3 (ipykernel)",
   "language": "python",
   "name": "python3"
  },
  "language_info": {
   "codemirror_mode": {
    "name": "ipython",
    "version": 3
   },
   "file_extension": ".py",
   "mimetype": "text/x-python",
   "name": "python",
   "nbconvert_exporter": "python",
   "pygments_lexer": "ipython3",
   "version": "3.11.7"
  }
 },
 "nbformat": 4,
 "nbformat_minor": 5
}
