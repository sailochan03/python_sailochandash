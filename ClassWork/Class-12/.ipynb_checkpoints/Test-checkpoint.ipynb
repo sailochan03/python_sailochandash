{
 "cells": [
  {
   "cell_type": "code",
   "execution_count": 1,
   "id": "bbb54708-6b57-44f9-8bd9-40492c5fba6d",
   "metadata": {},
   "outputs": [],
   "source": [
    "# Chapter 12 (Natural Language Processing)"
   ]
  },
  {
   "cell_type": "code",
   "execution_count": 2,
   "id": "d673a9de-7567-4cca-ab6d-de86a00ca6dc",
   "metadata": {},
   "outputs": [],
   "source": [
    "import textblob\n",
    "import nltk\n",
    "from textblob import TextBlob"
   ]
  },
  {
   "cell_type": "code",
   "execution_count": 3,
   "id": "90cbd136-36a3-4fc7-872d-1c7089020bd3",
   "metadata": {},
   "outputs": [],
   "source": [
    "text = 'Today is a good day. Then tomorrow is likely to be bad day.'\n",
    "blob = TextBlob(text)"
   ]
  },
  {
   "cell_type": "code",
   "execution_count": 4,
   "id": "42840168-1d89-4349-98a3-d413424b7524",
   "metadata": {},
   "outputs": [
    {
     "data": {
      "text/plain": [
       "[Sentence(\"Today is a good day.\"),\n",
       " Sentence(\"Then tomorrow is likely to be bad day.\")]"
      ]
     },
     "execution_count": 4,
     "metadata": {},
     "output_type": "execute_result"
    }
   ],
   "source": [
    "blob.sentences"
   ]
  },
  {
   "cell_type": "code",
   "execution_count": 5,
   "id": "add56516-412e-455f-8274-b1a714c687a7",
   "metadata": {},
   "outputs": [
    {
     "data": {
      "text/plain": [
       "WordList(['Today', 'is', 'a', 'good', 'day', 'Then', 'tomorrow', 'is', 'likely', 'to', 'be', 'bad', 'day'])"
      ]
     },
     "execution_count": 5,
     "metadata": {},
     "output_type": "execute_result"
    }
   ],
   "source": [
    "blob.words"
   ]
  },
  {
   "cell_type": "code",
   "execution_count": 6,
   "id": "13dc3ac9-f8a7-4bd1-aa6e-aecc86463d8a",
   "metadata": {},
   "outputs": [
    {
     "data": {
      "text/plain": [
       "WordList(['Today', 'is', 'a', 'good', 'day', '.', 'Then', 'tomorrow', 'is', 'likely', 'to', 'be', 'bad', 'day', '.'])"
      ]
     },
     "execution_count": 6,
     "metadata": {},
     "output_type": "execute_result"
    }
   ],
   "source": [
    "blob.tokens"
   ]
  },
  {
   "cell_type": "code",
   "execution_count": 7,
   "id": "d848707f-d6fc-4f05-90cb-6bba899d7e21",
   "metadata": {},
   "outputs": [
    {
     "data": {
      "text/plain": [
       "[('Today', 'NN'),\n",
       " ('is', 'VBZ'),\n",
       " ('a', 'DT'),\n",
       " ('good', 'JJ'),\n",
       " ('day', 'NN'),\n",
       " ('Then', 'RB'),\n",
       " ('tomorrow', 'NN'),\n",
       " ('is', 'VBZ'),\n",
       " ('likely', 'JJ'),\n",
       " ('to', 'TO'),\n",
       " ('be', 'VB'),\n",
       " ('bad', 'JJ'),\n",
       " ('day', 'NN')]"
      ]
     },
     "execution_count": 7,
     "metadata": {},
     "output_type": "execute_result"
    }
   ],
   "source": [
    "blob.tags"
   ]
  },
  {
   "cell_type": "code",
   "execution_count": 8,
   "id": "c6eb6b60-3741-4043-a089-6b3dd5e1a0f3",
   "metadata": {},
   "outputs": [
    {
     "data": {
      "text/plain": [
       "WordList(['good day', 'bad day'])"
      ]
     },
     "execution_count": 8,
     "metadata": {},
     "output_type": "execute_result"
    }
   ],
   "source": [
    "blob.noun_phrases"
   ]
  },
  {
   "cell_type": "code",
   "execution_count": 9,
   "id": "e4522ce9-3750-4d2b-b31f-cd1f3bafd565",
   "metadata": {},
   "outputs": [
    {
     "data": {
      "text/plain": [
       "Sentiment(polarity=3.700743415417188e-17, subjectivity=0.7555555555555555)"
      ]
     },
     "execution_count": 9,
     "metadata": {},
     "output_type": "execute_result"
    }
   ],
   "source": [
    "blob.sentiment"
   ]
  },
  {
   "cell_type": "code",
   "execution_count": 11,
   "id": "9d8b418c-39af-4e74-95da-38b48b7317a7",
   "metadata": {},
   "outputs": [
    {
     "name": "stdout",
     "output_type": "stream",
     "text": [
      "Sentiment(polarity=0.7, subjectivity=0.6000000000000001)\n",
      "Sentiment(polarity=-0.3499999999999999, subjectivity=0.8333333333333333)\n"
     ]
    }
   ],
   "source": [
    "for sentence in blob.sentences:\n",
    "    print(sentence.sentiment)"
   ]
  },
  {
   "cell_type": "code",
   "execution_count": 12,
   "id": "e7bd35c1-b28b-4a0c-9fd7-c2cbedee6971",
   "metadata": {},
   "outputs": [],
   "source": [
    "from textblob.sentiments import NaiveBayesAnalyzer"
   ]
  },
  {
   "cell_type": "code",
   "execution_count": 13,
   "id": "9beb0de5-d101-4af0-91d6-44a91e7c9ea6",
   "metadata": {},
   "outputs": [
    {
     "data": {
      "text/plain": [
       "Sentiment(classification='pos', p_pos=0.6386587215262682, p_neg=0.3613412784737319)"
      ]
     },
     "execution_count": 13,
     "metadata": {},
     "output_type": "execute_result"
    }
   ],
   "source": [
    "blob2 = TextBlob(text, analyzer = NaiveBayesAnalyzer())\n",
    "blob2.sentiment"
   ]
  },
  {
   "cell_type": "code",
   "execution_count": 14,
   "id": "e8fb0562-cc10-4c14-9268-15909c48dc4d",
   "metadata": {},
   "outputs": [
    {
     "name": "stdout",
     "output_type": "stream",
     "text": [
      "Sentiment(classification='pos', p_pos=0.7265237431528468, p_neg=0.2734762568471531)\n",
      "Sentiment(classification='neg', p_pos=0.4518237741969971, p_neg=0.5481762258030025)\n"
     ]
    }
   ],
   "source": [
    "for sentence in blob2.sentences:\n",
    "    print(sentence.sentiment)"
   ]
  },
  {
   "cell_type": "code",
   "execution_count": 16,
   "id": "78aa0725-a093-486e-a62b-7a3f110ef90b",
   "metadata": {},
   "outputs": [],
   "source": [
    "from textblob import Word"
   ]
  },
  {
   "cell_type": "code",
   "execution_count": 17,
   "id": "2eb5db54-d8bf-40de-bf18-370ada0a712d",
   "metadata": {},
   "outputs": [
    {
     "data": {
      "text/plain": [
       "'similarity'"
      ]
     },
     "execution_count": 17,
     "metadata": {},
     "output_type": "execute_result"
    }
   ],
   "source": [
    "w = Word('similarities')\n",
    "w.singularize()"
   ]
  },
  {
   "cell_type": "code",
   "execution_count": 18,
   "id": "00720e5e-63c0-4c21-9e52-5d6fdb97e585",
   "metadata": {},
   "outputs": [
    {
     "data": {
      "text/plain": [
       "'cactus'"
      ]
     },
     "execution_count": 18,
     "metadata": {},
     "output_type": "execute_result"
    }
   ],
   "source": [
    "w = Word('cacti')\n",
    "w.singularize()"
   ]
  },
  {
   "cell_type": "code",
   "execution_count": 19,
   "id": "a7d81a19-6445-4fb1-b1fa-56952eb46cbb",
   "metadata": {},
   "outputs": [
    {
     "data": {
      "text/plain": [
       "[('tactic', 0.3333333333333333),\n",
       " ('lactic', 0.3333333333333333),\n",
       " ('cactus', 0.3333333333333333)]"
      ]
     },
     "execution_count": 19,
     "metadata": {},
     "output_type": "execute_result"
    }
   ],
   "source": [
    "w = Word('cactiK')\n",
    "w.spellcheck()"
   ]
  },
  {
   "cell_type": "code",
   "execution_count": 20,
   "id": "a278160d-ccd2-41d4-85fe-bf1b63f1a25d",
   "metadata": {},
   "outputs": [
    {
     "data": {
      "text/plain": [
       "[('new', 0.42077831827658096),\n",
       " ('yes', 0.23905489923558026),\n",
       " ('yet', 0.1695621959694232),\n",
       " ('few', 0.15913829047949965),\n",
       " ('dew', 0.0034746351633078527),\n",
       " ('ye', 0.002779708130646282),\n",
       " ('pew', 0.002432244614315497),\n",
       " ('jew', 0.0010423905489923557),\n",
       " ('yer', 0.00034746351633078526),\n",
       " ('yep', 0.00034746351633078526),\n",
       " ('yea', 0.00034746351633078526),\n",
       " ('sew', 0.00034746351633078526),\n",
       " ('hew', 0.00034746351633078526)]"
      ]
     },
     "execution_count": 20,
     "metadata": {},
     "output_type": "execute_result"
    }
   ],
   "source": [
    "w = Word('yew')\n",
    "w.spellcheck()"
   ]
  },
  {
   "cell_type": "code",
   "execution_count": 21,
   "id": "caf090e2-b038-44af-b685-7a75a1cc0d15",
   "metadata": {},
   "outputs": [
    {
     "data": {
      "text/plain": [
       "'new'"
      ]
     },
     "execution_count": 21,
     "metadata": {},
     "output_type": "execute_result"
    }
   ],
   "source": [
    "w.correct()"
   ]
  },
  {
   "cell_type": "code",
   "execution_count": 25,
   "id": "7be00b4c-d257-490b-ac77-9dd5efe3d4ad",
   "metadata": {},
   "outputs": [
    {
     "data": {
      "text/plain": [
       "'varieti'"
      ]
     },
     "execution_count": 25,
     "metadata": {},
     "output_type": "execute_result"
    }
   ],
   "source": [
    "w = Word('varieties')\n",
    "w.stem()"
   ]
  },
  {
   "cell_type": "code",
   "execution_count": 26,
   "id": "f4799f39-3612-4e09-8c0c-e5e3fafc8178",
   "metadata": {},
   "outputs": [
    {
     "data": {
      "text/plain": [
       "'variety'"
      ]
     },
     "execution_count": 26,
     "metadata": {},
     "output_type": "execute_result"
    }
   ],
   "source": [
    "w.lemmatize()"
   ]
  },
  {
   "cell_type": "code",
   "execution_count": 27,
   "id": "0b392920-5394-4cf3-821e-5dac629ac705",
   "metadata": {},
   "outputs": [],
   "source": [
    "from pathlib import Path"
   ]
  },
  {
   "cell_type": "code",
   "execution_count": 28,
   "id": "83e4b73a-85b9-46ac-a9de-bb1a555911af",
   "metadata": {},
   "outputs": [],
   "source": [
    "blob = TextBlob(Path('./RomeoAndJuliet.txt').read_text(encoding='utf-8'))"
   ]
  },
  {
   "cell_type": "code",
   "execution_count": 32,
   "id": "a32a64a2-050c-4a1b-baaf-b280656e8e9a",
   "metadata": {},
   "outputs": [
    {
     "data": {
      "text/plain": [
       "315"
      ]
     },
     "execution_count": 32,
     "metadata": {},
     "output_type": "execute_result"
    }
   ],
   "source": [
    "blob.word_counts['romeo']"
   ]
  },
  {
   "cell_type": "code",
   "execution_count": 33,
   "id": "567ade86-8455-43ac-9093-08e5ae99fbfd",
   "metadata": {},
   "outputs": [
    {
     "data": {
      "text/plain": [
       "['enjoying or showing or marked by joy or pleasure',\n",
       " 'marked by good fortune',\n",
       " 'eagerly disposed to act or to be of service',\n",
       " 'well expressed and to the point']"
      ]
     },
     "execution_count": 33,
     "metadata": {},
     "output_type": "execute_result"
    }
   ],
   "source": [
    "happy = Word('happy')\n",
    "happy.definitions"
   ]
  },
  {
   "cell_type": "code",
   "execution_count": 34,
   "id": "2af92094-e549-4ead-92f3-f63ba4259921",
   "metadata": {},
   "outputs": [
    {
     "data": {
      "text/plain": [
       "[Synset('happy.a.01'),\n",
       " Synset('felicitous.s.02'),\n",
       " Synset('glad.s.02'),\n",
       " Synset('happy.s.04')]"
      ]
     },
     "execution_count": 34,
     "metadata": {},
     "output_type": "execute_result"
    }
   ],
   "source": [
    "happy.synsets"
   ]
  },
  {
   "cell_type": "code",
   "execution_count": 36,
   "id": "6da4fbc0-32fc-4c66-862b-3f6a8dda960c",
   "metadata": {},
   "outputs": [
    {
     "data": {
      "text/plain": [
       "{'felicitous', 'glad', 'happy', 'well-chosen'}"
      ]
     },
     "execution_count": 36,
     "metadata": {},
     "output_type": "execute_result"
    }
   ],
   "source": [
    "synonyms = set()\n",
    "for synset in happy.synsets:\n",
    "    for lemma in synset.lemmas():\n",
    "        synonyms.add(lemma.name())\n",
    "\n",
    "synonyms"
   ]
  },
  {
   "cell_type": "code",
   "execution_count": 37,
   "id": "870f7ccc-8fa5-4424-95bd-6591feb9e37e",
   "metadata": {},
   "outputs": [
    {
     "name": "stderr",
     "output_type": "stream",
     "text": [
      "[nltk_data] Downloading package stopwords to\n",
      "[nltk_data]     /home/student/nltk_data...\n",
      "[nltk_data]   Unzipping corpora/stopwords.zip.\n"
     ]
    },
    {
     "data": {
      "text/plain": [
       "True"
      ]
     },
     "execution_count": 37,
     "metadata": {},
     "output_type": "execute_result"
    }
   ],
   "source": [
    "nltk.download('stopwords')"
   ]
  },
  {
   "cell_type": "code",
   "execution_count": 38,
   "id": "dde766c6-b333-4452-b167-4687b9ab0362",
   "metadata": {},
   "outputs": [],
   "source": [
    "from nltk.corpus import stopwords"
   ]
  },
  {
   "cell_type": "code",
   "execution_count": 1,
   "id": "4f21640b-8b40-4938-a3bf-dd8b224e9996",
   "metadata": {},
   "outputs": [
    {
     "ename": "NameError",
     "evalue": "name 'stopwords' is not defined",
     "output_type": "error",
     "traceback": [
      "\u001b[0;31m---------------------------------------------------------------------------\u001b[0m",
      "\u001b[0;31mNameError\u001b[0m                                 Traceback (most recent call last)",
      "Cell \u001b[0;32mIn[1], line 1\u001b[0m\n\u001b[0;32m----> 1\u001b[0m stops \u001b[38;5;241m=\u001b[39m stopwords\u001b[38;5;241m.\u001b[39mwords(\u001b[38;5;124m'\u001b[39m\u001b[38;5;124menglish\u001b[39m\u001b[38;5;124m'\u001b[39m)\n\u001b[1;32m      2\u001b[0m stops\n",
      "\u001b[0;31mNameError\u001b[0m: name 'stopwords' is not defined"
     ]
    }
   ],
   "source": [
    "stops = stopwords.words('english')\n",
    "stops"
   ]
  }
 ],
 "metadata": {
  "kernelspec": {
   "display_name": "Python 3 (ipykernel)",
   "language": "python",
   "name": "python3"
  },
  "language_info": {
   "codemirror_mode": {
    "name": "ipython",
    "version": 3
   },
   "file_extension": ".py",
   "mimetype": "text/x-python",
   "name": "python",
   "nbconvert_exporter": "python",
   "pygments_lexer": "ipython3",
   "version": "3.11.7"
  }
 },
 "nbformat": 4,
 "nbformat_minor": 5
}
