{
 "cells": [
  {
   "cell_type": "code",
   "execution_count": 1,
   "id": "bbb54708-6b57-44f9-8bd9-40492c5fba6d",
   "metadata": {},
   "outputs": [],
   "source": [
    "# Chapter 12 (Natural Language Processing)"
   ]
  },
  {
   "cell_type": "code",
   "execution_count": 33,
   "id": "d673a9de-7567-4cca-ab6d-de86a00ca6dc",
   "metadata": {},
   "outputs": [],
   "source": [
    "import textblob\n",
    "import nltk\n",
    "from textblob import TextBlob\n",
    "from nltk.corpus import stopwords"
   ]
  },
  {
   "cell_type": "code",
   "execution_count": 40,
   "id": "be602aae-2a96-416a-a38a-e162313674ab",
   "metadata": {},
   "outputs": [
    {
     "name": "stdout",
     "output_type": "stream",
     "text": [
      "['a', 'about', 'above', 'after', 'again', 'against', 'ain', 'all', 'am', 'an', 'and', 'any', 'are', 'aren', \"aren't\", 'as', 'at', 'be', 'because', 'been', 'before', 'being', 'below', 'between', 'both', 'but', 'by', 'can', 'couldn', \"couldn't\", 'd', 'did', 'didn', \"didn't\", 'do', 'does', 'doesn', \"doesn't\", 'doing', 'don', \"don't\", 'down', 'during', 'each', 'few', 'for', 'from', 'further', 'had', 'hadn', \"hadn't\", 'has', 'hasn', \"hasn't\", 'have', 'haven', \"haven't\", 'having', 'he', \"he'd\", \"he'll\", 'her', 'here', 'hers', 'herself', \"he's\", 'him', 'himself', 'his', 'how', 'i', \"i'd\", 'if', \"i'll\", \"i'm\", 'in', 'into', 'is', 'isn', \"isn't\", 'it', \"it'd\", \"it'll\", \"it's\", 'its', 'itself', \"i've\", 'just', 'll', 'm', 'ma', 'me', 'mightn', \"mightn't\", 'more', 'most', 'mustn', \"mustn't\", 'my', 'myself', 'needn', \"needn't\", 'no', 'nor', 'not', 'now', 'o', 'of', 'off', 'on', 'once', 'only', 'or', 'other', 'our', 'ours', 'ourselves', 'out', 'over', 'own', 're', 's', 'same', 'shan', \"shan't\", 'she', \"she'd\", \"she'll\", \"she's\", 'should', 'shouldn', \"shouldn't\", \"should've\", 'so', 'some', 'such', 't', 'than', 'that', \"that'll\", 'the', 'their', 'theirs', 'them', 'themselves', 'then', 'there', 'these', 'they', \"they'd\", \"they'll\", \"they're\", \"they've\", 'this', 'those', 'through', 'to', 'too', 'under', 'until', 'up', 've', 'very', 'was', 'wasn', \"wasn't\", 'we', \"we'd\", \"we'll\", \"we're\", 'were', 'weren', \"weren't\", \"we've\", 'what', 'when', 'where', 'which', 'while', 'who', 'whom', 'why', 'will', 'with', 'won', \"won't\", 'wouldn', \"wouldn't\", 'y', 'you', \"you'd\", \"you'll\", 'your', \"you're\", 'yours', 'yourself', 'yourselves', \"you've\"]\n"
     ]
    }
   ],
   "source": [
    "stops = stopwords.words('english')\n",
    "print(stops)"
   ]
  },
  {
   "cell_type": "code",
   "execution_count": 52,
   "id": "90cbd136-36a3-4fc7-872d-1c7089020bd3",
   "metadata": {},
   "outputs": [],
   "source": [
    "text = 'Today is a beautiful day. Tommorrow is likely to be a good day.'\n",
    "blob = TextBlob(text)"
   ]
  },
  {
   "cell_type": "code",
   "execution_count": 53,
   "id": "add56516-412e-455f-8274-b1a714c687a7",
   "metadata": {},
   "outputs": [
    {
     "data": {
      "text/plain": [
       "WordList(['Today', 'is', 'a', 'beautiful', 'day', 'Tommorrow', 'is', 'likely', 'to', 'be', 'a', 'good', 'day'])"
      ]
     },
     "execution_count": 53,
     "metadata": {},
     "output_type": "execute_result"
    }
   ],
   "source": [
    "blob.words"
   ]
  },
  {
   "cell_type": "code",
   "execution_count": 54,
   "id": "80c49aac-5608-43f9-9fb1-d34a11fd5b33",
   "metadata": {},
   "outputs": [
    {
     "name": "stdout",
     "output_type": "stream",
     "text": [
      "['Today', 'beautiful', 'day', 'Tommorrow', 'likely', 'good', 'day']\n"
     ]
    }
   ],
   "source": [
    "flow = [word for word in blob.words if word not in stops]\n",
    "print(flow)"
   ]
  },
  {
   "cell_type": "code",
   "execution_count": 67,
   "id": "6d54f725-b530-4801-bd2c-f5ba553e8ee9",
   "metadata": {},
   "outputs": [
    {
     "name": "stdout",
     "output_type": "stream",
     "text": [
      "[WordList(['Today', 'is']), WordList(['is', 'a']), WordList(['a', 'beautiful']), WordList(['beautiful', 'day']), WordList(['day', 'Tommorrow']), WordList(['Tommorrow', 'is']), WordList(['is', 'likely']), WordList(['likely', 'to']), WordList(['to', 'be']), WordList(['be', 'a']), WordList(['a', 'good']), WordList(['good', 'day'])]\n"
     ]
    }
   ],
   "source": [
    "print(blob.ngrams(2))"
   ]
  },
  {
   "cell_type": "code",
   "execution_count": 114,
   "id": "fda9b925-727f-42f5-9c6d-5d7fb1b8e51e",
   "metadata": {},
   "outputs": [],
   "source": [
    "# Word Frequencies"
   ]
  },
  {
   "cell_type": "code",
   "execution_count": 115,
   "id": "d50b1218-a94f-4543-ad5d-be7046caf4f2",
   "metadata": {},
   "outputs": [],
   "source": [
    "# Quantitative Analysis"
   ]
  },
  {
   "cell_type": "code",
   "execution_count": 57,
   "id": "fc7a4404-8069-4d55-9b5b-473200347800",
   "metadata": {},
   "outputs": [],
   "source": [
    "from pathlib import Path"
   ]
  },
  {
   "cell_type": "code",
   "execution_count": 69,
   "id": "7e9f0c64-536e-44d1-b33c-3f8a70cb1102",
   "metadata": {},
   "outputs": [],
   "source": [
    "text = Path('./RomeoAndJuliet.txt').read_text(encoding='utf-8')\n",
    "blob = TextBlob(text)"
   ]
  },
  {
   "cell_type": "code",
   "execution_count": 76,
   "id": "b60a24c5-4c79-4e20-b38c-7a968178da40",
   "metadata": {},
   "outputs": [
    {
     "name": "stdout",
     "output_type": "stream",
     "text": [
      "[('tragedy', 1), ('romeo', 315), ('juliet', 190), ('william', 1), ('shakespeare', 1), ('contents', 1), ('prologue', 3), ('act', 13), ('scene', 51), ('public', 5), ('place', 16), ('ii', 12), ('street', 10), ('iii', 12), ('room', 8), ('capulet', 163), ('’', 867), ('house', 32), ('iv', 10), ('v', 10), ('hall', 8), ('chorus', 6), ('open', 9), ('adjoining', 2), ('garden', 8), ('friar', 105), ('lawrence', 82), ('cell', 22), ('vi', 2), ('gallery', 2), ('chamber', 13), ('overlooking', 2), ('bed', 25), ('mantua', 16), ('churchyard', 9), ('monument', 11), ('belonging', 3), ('capulets', 8), ('dramatis', 1), ('personæ', 1), ('escalus', 2), ('prince', 43), ('verona', 15), ('mercutio', 88), ('kinsman', 13), ('friend', 15), ('paris', 61), ('young', 24), ('nobleman', 2), ('page', 12), ('montague', 47), ('head', 16), ('veronese', 2), ('family', 2), ('feud', 2), ('lady', 117), ('wife', 20), ('son', 18), ('benvolio', 79), ('nephew', 3), ('abram', 7), ('servant', 31), ('balthasar', 19), ('montagues', 6), ('daughter', 17), ('tybalt', 79), ('cousin', 22), ('old', 28), ('man', 71), ('nurse', 149), ('peter', 29), ('sampson', 22), ('gregory', 19), ('servants', 7), ('franciscan', 2), ('john', 10), ('order', 3), ('apothecary', 9), ('three', 8), ('musicians', 9), ('officer', 1), ('citizens', 6), ('several', 1), ('men', 30), ('women', 5), ('relations', 1), ('houses', 5), ('maskers', 3), ('guards', 1), ('watchmen', 1), ('attendants', 4), ('greater', 2), ('part', 24), ('play', 11), ('fifth', 1), ('enter', 75), ('two', 20), ('households', 2), ('alike', 3), ('dignity', 1), ('fair', 44), ('lay', 11), ('ancient', 9), ('grudge', 1), ('break', 5), ('new', 13), ('mutiny', 2), ('civil', 5), ('blood', 17), ('makes', 12), ('hands', 13), ('unclean', 1), ('forth', 12), ('fatal', 4), ('loins', 1), ('foes', 1), ('pair', 2), ('star-cross', 1), ('lovers', 8), ('take', 40), ('life', 23), ('whose', 15), ('misadventur', 1), ('piteous', 5), ('overthrows', 1), ('doth', 47), ('death', 72), ('bury', 3), ('parents', 2), ('strife', 3), ('fearful', 7), ('passage', 1), ('death-mark', 1), ('love', 148), ('continuance', 1), ('rage', 4), ('children', 3), ('end', 9), ('nought', 1), ('could', 17), ('remove', 4), ('hours', 7), ('traffic', 1), ('stage', 1), ('patient', 3), ('ears', 10), ('attend', 3), ('shall', 110), ('miss', 2), ('toil', 3), ('strive', 1), ('mend', 2), ('exit', 32), ('armed', 1), ('swords', 5), ('bucklers', 1), ('word', 28), ('carry', 2), ('coals', 1), ('colliers', 1), ('mean', 7), ('choler', 2), ('draw', 11), ('ay', 34), ('live', 19), ('neck', 2), ('collar', 1), ('strike', 5), ('quickly', 5), ('moved', 6), ('thou', 278), ('art', 55), ('dog', 6), ('moves', 1), ('move', 9), ('stir', 6), ('valiant', 2), ('stand', 25), ('therefore', 23), ('runn', 1), ('st', 41), ('away', 23), ('wall', 9), ('maid', 10), ('shows', 7), ('thee', 138), ('weak', 4), ('slave', 3), ('weakest', 1), ('goes', 3), ('true', 26), ('weaker', 1), ('vessels', 1), ('ever', 12), ('thrust', 3), ('push', 1), ('maids', 6), ('quarrel', 11), ('masters', 1), ('us', 30), ('tis', 40), ('one', 61), ('show', 11), ('tyrant', 2), ('fought', 4), ('cut', 4), ('heads', 5), ('maidenheads', 1), ('sense', 3), ('wilt', 30), ('must', 40), ('feel', 7), ('able', 2), ('known', 4), ('pretty', 5), ('piece', 2), ('flesh', 7), ('well', 58), ('fish', 2), ('hadst', 6), ('poor', 18), ('thy', 170), ('tool', 1), ('comes', 27), ('naked', 1), ('weapon', 2), ('back', 29), ('turn', 13), ('run', 14), ('fear', 16), ('marry', 21), ('let', 50), ('law', 11), ('sides', 1), ('begin', 4), ('frown', 2), ('pass', 4), ('list', 1), ('nay', 20), ('dare', 5), ('bite', 8), ('thumb', 6), ('disgrace', 1), ('bear', 12), ('sir', 57), ('side', 6), ('say', 55), ('serve', 6), ('good', 80), ('better', 12), ('master', 12), ('kinsmen', 4), ('yes', 2), ('lie', 21), ('remember', 7), ('washing', 1), ('blow', 2), ('fight', 6), ('fools', 2), ('put', 17), ('know', 38), ('beats', 4), ('drawn', 3), ('among', 6), ('heartless', 1), ('hinds', 1), ('look', 34), ('upon', 42), ('keep', 16), ('peace', 19), ('sword', 8), ('manage', 2), ('talk', 15), ('hate', 13), ('hell', 5), ('coward', 1), ('four', 2), ('clubs', 2), ('first', 34), ('citizen', 3), ('bills', 1), ('partisans', 2), ('beat', 4), ('gown', 1), ('noise', 7), ('give', 47), ('long', 16), ('ho', 13), ('crutch', 2), ('call', 24), ('come', 94), ('flourishes', 1), ('blade', 2), ('spite', 4), ('villain', 17), ('hold', 17), ('go', 75), ('shalt', 11), ('foot', 9), ('seek', 4), ('foe', 6), ('rebellious', 1), ('subjects', 1), ('enemies', 2), ('profaners', 1), ('neighbour-stained', 1), ('steel', 4), ('—', 16), ('hear', 25), ('beasts', 1), ('quench', 2), ('fire', 7), ('pernicious', 1), ('purple', 1), ('fountains', 1), ('issuing', 1), ('veins', 4), ('pain', 3), ('torture', 4), ('bloody', 7), ('throw', 1), ('mistemper', 1), ('weapons', 2), ('ground', 9), ('sentence', 2), ('brawls', 2), ('bred', 1), ('airy', 3), ('thrice', 1), ('disturb', 3), ('quiet', 4), ('streets', 4), ('made', 22), ('cast', 3), ('grave', 17), ('beseeming', 1), ('ornaments', 2), ('wield', 1), ('canker', 3), ('lives', 14), ('pay', 4), ('forfeit', 2), ('time', 32), ('rest', 16), ('depart', 4), ('along', 4), ('afternoon', 3), ('farther', 2), ('pleasure', 5), ('case', 9), ('free-town', 1), ('common', 2), ('judgement-place', 1), ('exeunt', 34), ('set', 10), ('abroach', 1), ('speak', 29), ('began', 2), ('adversary', 1), ('close', 6), ('fighting', 1), ('ere', 21), ('approach', 3), ('drew', 2), ('instant', 1), ('came', 13), ('fiery', 2), ('prepar', 1), ('breath', 16), ('defiance', 1), ('swung', 1), ('winds', 2), ('nothing', 14), ('hurt', 6), ('withal', 5), ('hiss', 1), ('scorn', 5), ('interchanging', 1), ('thrusts', 1), ('blows', 3), ('till', 22), ('parted', 1), ('either', 9), ('saw', 10), ('today', 3), ('right', 5), ('glad', 2), ('fray', 4), ('madam', 23), ('hour', 17), ('worshipp', 1), ('sun', 16), ('peer', 1), ('golden', 4), ('window', 4), ('east', 4), ('troubled', 1), ('mind', 8), ('drave', 1), ('walk', 4), ('abroad', 3), ('underneath', 2), ('grove', 1), ('sycamore', 1), ('westward', 1), ('rooteth', 1), ('city', 4), ('early', 16), ('walking', 1), ('see', 37), ('towards', 4), ('ware', 2), ('stole', 1), ('covert', 1), ('wood', 1), ('measuring', 1), ('affections', 3), ('sought', 4), ('might', 6), ('found', 8), ('many', 15), ('weary', 2), ('self', 2), ('pursu', 2), ('humour', 3), ('pursuing', 1), ('gladly', 2), ('shunn', 1), ('fled', 2), ('morning', 11), ('hath', 64), ('seen', 6), ('tears', 20), ('augmenting', 1), ('fresh', 2), ('dew', 4), ('adding', 1), ('clouds', 8), ('deep', 6), ('sighs', 5), ('soon', 13), ('all-cheering', 1), ('farthest', 2), ('shady', 1), ('curtains', 1), ('aurora', 1), ('light', 29), ('steals', 1), ('home', 6), ('heavy', 10), ('private', 2), ('pens', 1), ('shuts', 2), ('windows', 2), ('locks', 2), ('daylight', 4), ('artificial', 1), ('night', 73), ('black', 10), ('portentous', 1), ('prove', 6), ('unless', 6), ('counsel', 8), ('may', 48), ('cause', 5), ('noble', 8), ('uncle', 4), ('neither', 2), ('learn', 4), ('importun', 1), ('means', 9), ('friends', 5), ('counsellor', 2), ('himself—i', 1), ('true—', 1), ('secret', 4), ('far', 5), ('sounding', 2), ('discovery', 1), ('bud', 2), ('bit', 1), ('envious', 6), ('worm', 2), ('spread', 2), ('sweet', 33), ('leaves', 2), ('air', 7), ('dedicate', 1), ('beauty', 13), ('whence', 2), ('sorrows', 2), ('grow', 3), ('would', 55), ('willingly', 1), ('cure', 3), ('please', 3), ('step', 1), ('aside', 6), ('grievance', 1), ('much', 37), ('denied', 1), ('wert', 3), ('happy', 12), ('stay', 29), ('shrift', 5), ('morrow', 6), ('day', 48), ('struck', 2), ('nine', 5), ('sad', 5), ('seem', 2), ('father', 25), ('went', 2), ('hence', 27), ('fast', 3), ('sadness', 4), ('lengthens', 1), ('short', 7), ('favour', 2), ('alas', 8), ('gentle', 12), ('view', 3), ('tyrannous', 1), ('rough', 5), ('proof', 3), ('muffled', 1), ('still', 14), ('without', 13), ('eyes', 29), ('pathways', 1), ('dine', 1), ('yet', 47), ('tell', 44), ('heard', 2), ('brawling', 1), ('loving', 6), ('anything', 4), ('create', 1), ('lightness', 1), ('serious', 1), ('vanity', 2), ('misshapen', 2), ('chaos', 1), ('well-seeming', 1), ('forms', 1), ('feather', 1), ('lead', 6), ('bright', 5), ('smoke', 2), ('cold', 7), ('sick', 7), ('health', 1), ('still-waking', 1), ('sleep', 12), ('dost', 16), ('laugh', 3), ('coz', 4), ('rather', 4), ('weep', 10), ('heart', 33), ('oppression', 3), ('transgression', 1), ('griefs', 4), ('mine', 29), ('breast', 6), ('propagate', 1), ('prest', 1), ('thine', 13), ('hast', 28), ('shown', 2), ('add', 1), ('grief', 12), ('fume', 1), ('purg', 2), ('sparkling', 1), ('vex', 2), ('sea', 7), ('nourish', 1), ('else', 13), ('madness', 1), ('discreet', 1), ('choking', 1), ('gall', 2), ('preserving', 1), ('farewell', 20), ('going', 5), ('soft', 5), ('leave', 13), ('wrong', 3), ('tut', 4), ('lost', 3), ('groan', 3), ('sadly', 1), ('bid', 21), ('make', 40), ('ill', 12), ('urg', 3), ('woman', 3), ('aim', 1), ('near', 7), ('suppos', 2), ('lov', 4), ('markman', 1), ('mark', 6), ('soonest', 1), ('hit', 7), ('cupid', 5), ('arrow', 1), ('dian', 1), ('wit', 13), ('strong', 3), ('chastity', 1), ('arm', 8), ('childish', 1), ('bow', 4), ('uncharm', 1), ('siege', 2), ('terms', 1), ('bide', 1), ('th', 4), ('encounter', 3), ('assailing', 1), ('ope', 2), ('lap', 1), ('saint-seducing', 1), ('gold', 5), ('rich', 10), ('dies', 6), ('store', 2), ('sworn', 3), ('chaste', 1), ('sparing', 1), ('huge', 1), ('waste', 3), ('starv', 1), ('severity', 1), ('cuts', 1), ('posterity', 1), ('wise', 5), ('wisely', 5), ('merit', 2), ('bliss', 2), ('making', 3), ('despair', 2), ('forsworn', 4), ('vow', 5), ('dead', 48), ('rul', 3), ('forget', 9), ('think', 21), ('teach', 3), ('giving', 2), ('liberty', 3), ('unto', 9), ('examine', 2), ('beauties', 3), ('way', 9), ('exquisite', 1), ('question', 2), ('masks', 1), ('kiss', 10), ('ladies', 5), ('brows', 2), ('puts', 1), ('hide', 9), ('strucken', 1), ('blind', 5), ('precious', 3), ('treasure', 1), ('eyesight', 2), ('mistress', 11), ('passing', 2), ('note', 4), ('read', 6), ('canst', 7), ('doctrine', 1), ('die', 23), ('debt', 2), ('bound', 8), ('penalty', 1), ('hard', 3), ('honourable', 5), ('reckoning', 2), ('pity', 2), ('liv', 1), ('odds', 1), ('lord', 30), ('suit', 3), ('saying', 1), ('er', 25), ('said', 14), ('child', 16), ('stranger', 1), ('world', 17), ('change', 5), ('fourteen', 6), ('years', 12), ('summers', 1), ('wither', 1), ('pride', 2), ('ripe', 1), ('bride', 6), ('younger', 2), ('mothers', 2), ('marr', 1), ('earth', 19), ('swallowed', 1), ('hopes', 1), ('hopeful', 1), ('woo', 5), ('get', 12), ('consent', 5), ('agree', 1), ('within', 19), ('scope', 1), ('choice', 2), ('lies', 19), ('according', 1), ('voice', 5), ('accustom', 1), ('feast', 6), ('whereto', 1), ('invited', 1), ('guest', 2), ('welcome', 8), ('number', 2), ('behold', 7), ('earth-treading', 1), ('stars', 7), ('dark', 7), ('heaven', 29), ('comfort', 10), ('lusty', 2), ('apparell', 1), ('april', 1), ('heel', 2), ('limping', 1), ('winter', 1), ('treads', 1), ('even', 12), ('delight', 3), ('female', 1), ('buds', 1), ('inherit', 1), ('like', 38), ('though', 11), ('none', 15), ('sirrah', 5), ('trudge', 2), ('find', 24), ('persons', 2), ('names', 4), ('written', 5), ('gives', 7), ('paper', 3), ('shoemaker', 1), ('meddle', 1), ('yard', 1), ('tailor', 2), ('last', 8), ('fisher', 1), ('pencil', 1), ('painter', 1), ('nets', 1), ('sent', 2), ('writ', 7), ('never', 18), ('writing', 1), ('person', 2), ('learned', 2), ('burns', 1), ('another', 13), ('burning', 2), ('lessen', 1), ('anguish', 1), ('giddy', 1), ('holp', 1), ('backward', 3), ('turning', 2), ('desperate', 10), ('cures', 1), ('languish', 1), ('infection', 2), ('eye', 19), ('rank', 2), ('poison', 14), ('plantain', 1), ('leaf', 1), ('excellent', 2), ('pray', 17), ('broken', 1), ('shin', 1), ('mad', 11), ('madman', 3), ('shut', 4), ('prison', 2), ('kept', 1), ('food', 3), ('whipp', 1), ('tormented', 1), ('and—god-den', 1), ('fellow', 5), ('god', 30), ('gi', 1), ('go-den', 1), ('fortune', 9), ('misery', 2), ('perhaps', 1), ('book', 7), ('letters', 5), ('language', 1), ('ye', 12), ('honestly', 1), ('merry', 8), ('reads', 1), ('letter', 15), ('signior', 4), ('martino', 1), ('daughters', 2), ('county', 17), ('anselmo', 1), ('beauteous', 2), ('sisters', 1), ('widow', 1), ('utruvio', 1), ('placentio', 1), ('lovely', 2), ('nieces', 1), ('brother', 7), ('valentine', 1), ('niece', 1), ('rosaline', 10), ('livia', 1), ('valentio', 1), ('lucio', 1), ('lively', 1), ('helena', 1), ('assembly', 1), ('whither', 2), ('supper', 4), ('indeed', 9), ('ask', 6), ('asking', 1), ('great', 9), ('crush', 1), ('cup', 3), ('wine', 1), ('sups', 1), ('admired', 1), ('thither', 4), ('unattainted', 1), ('compare', 3), ('face', 21), ('swan', 1), ('crow', 4), ('devout', 1), ('religion', 1), ('maintains', 1), ('falsehood', 1), ('often', 2), ('drown', 1), ('transparent', 1), ('heretics', 1), ('burnt', 2), ('liars', 1), ('fairer', 2), ('all-seeing', 1), ('ne', 10), ('match', 6), ('since', 11), ('begun', 1), ('pois', 1), ('crystal', 1), ('scales', 1), ('weigh', 1), ('shining', 1), ('scant', 1), ('best', 12), ('sight', 8), ('rejoice', 2), ('splendour', 1), ('maidenhead', 2), ('twelve', 2), ('year', 3), ('bade', 2), ('lamb', 4), ('ladybird', 1), ('forbid', 3), ('girl', 6), ('calls', 10), ('mother', 15), ('matter', 6), ('awhile', 4), ('knowest', 2), ('age', 6), ('faith', 18), ('teeth', 1), ('teen', 1), ('spoken', 1), ('lammas-tide', 1), ('fortnight', 1), ('odd', 2), ('days', 9), ('lammas', 2), ('eve', 2), ('susan', 3), ('—god', 2), ('christian', 1), ('souls', 2), ('earthquake', 1), ('eleven', 2), ('wean', 1), ('—i', 1), ('it—', 1), ('laid', 5), ('wormwood', 2), ('dug', 3), ('sitting', 2), ('dovehouse', 2), ('brain', 3), ('taste', 3), ('nipple', 1), ('felt', 2), ('bitter', 4), ('fool', 7), ('tetchy', 1), ('fall', 15), ('shake', 2), ('quoth', 5), ('twas', 3), ('need', 11), ('trow', 2), ('alone', 15), ('rood', 1), ('waddled', 1), ('broke', 2), ('brow', 4), ('husband', 14), ('soul', 14), ('—took', 1), ('‘', 31), ('yea', 4), ('jule', 3), ('holidame', 1), ('wretch', 3), ('left', 4), ('crying', 2), ('jest', 6), ('warrant', 11), ('thousand', 7), ('stinted', 2), ('enough', 8), ('choose', 3), ('bump', 1), ('big', 2), ('cockerel', 1), ('stone', 1), ('perilous', 1), ('knock', 3), ('cried', 1), ('bitterly', 2), ('comest', 1), ('stint', 1), ('done', 10), ('grace', 4), ('wast', 6), ('prettiest', 2), ('babe', 1), ('e', 3), ('nurs', 2), ('married', 19), ('wish', 6), ('theme', 1), ('stands', 4), ('disposition', 2), ('honour', 5), ('dream', 10), ('suck', 2), ('wisdom', 4), ('teat', 1), ('marriage', 11), ('esteem', 1), ('already', 5), ('count', 4), ('thus', 9), ('brief', 5), ('seeks', 1), ('world—why', 1), ('wax', 2), ('summer', 3), ('flower', 10), ('gentleman', 14), ('volume', 2), ('pen', 1), ('every', 10), ('lineament', 1), ('lends', 3), ('content', 3), ('obscur', 1), ('margent', 1), ('unbound', 1), ('lover', 4), ('beautify', 1), ('lacks', 1), ('cover', 3), ('share', 2), ('glory', 1), ('clasps', 1), ('story', 2), ('possess', 3), ('less', 6), ('bigger', 2), ('briefly', 1), ('looking', 1), ('liking', 1), ('endart', 1), ('strength', 6), ('fly', 4), ('guests', 4), ('served', 2), ('called', 2), ('asked', 2), ('cursed', 3), ('pantry', 1), ('everything', 1), ('extremity', 1), ('wait', 1), ('beseech', 7), ('follow', 8), ('straight', 10), ('stays', 2), ('nights', 1), ('five', 6), ('six', 1), ('torch-bearers', 1), ('others', 9), ('speech', 1), ('spoke', 6), ('excuse', 5), ('apology', 1), ('date', 3), ('prolixity', 1), ('hoodwink', 1), ('scarf', 1), ('bearing', 2), ('tartar', 1), ('painted', 1), ('lath', 1), ('scaring', 1), ('crow-keeper', 1), ('without-book', 1), ('faintly', 1), ('prompter', 1), ('entrance', 2), ('measure', 7), ('gone', 33), ('torch', 8), ('ambling', 1), ('dance', 5), ('believe', 4), ('dancing', 2), ('shoes', 2), ('nimble', 1), ('soles', 1), ('stakes', 1), ('borrow', 3), ('wings', 5), ('soar', 2), ('sore', 1), ('enpierced', 1), ('shaft', 1), ('feathers', 1), ('pitch', 1), ('dull', 2), ('woe', 13), ('burden', 3), ('sink', 2), ('tender', 7), ('thing', 13), ('rude', 5), ('boisterous', 1), ('pricks', 1), ('thorn', 1), ('prick', 3), ('pricking', 1), ('visage', 1), ('putting', 2), ('mask', 5), ('visor', 3), ('care', 6), ('curious', 1), ('quote', 1), ('deformities', 1), ('beetle-brows', 1), ('blush', 3), ('sooner', 1), ('betake', 1), ('legs', 2), ('wantons', 1), ('tickle', 1), ('senseless', 1), ('rushes', 2), ('heels', 1), ('proverb', 1), ('grandsire', 2), ('phrase', 1), ('candle-holder', 1), ('game', 1), ('dun', 2), ('mouse', 3), ('constable', 1), ('mire', 1), ('save', 4), ('reverence', 1), ('wherein', 1), ('stickest', 1), ('burn', 3), ('delay', 3), ('lights', 2), ('vain', 3), ('meaning', 3), ('judgment', 2), ('sits', 2), ('times', 8), ('wits', 5), ('dreamt', 3), ('tonight', 15), ('dreamers', 1), ('asleep', 5), ('things', 8), ('queen', 1), ('mab', 3), ('fairies', 2), ('midwife', 1), ('shape', 5), ('agate-stone', 1), ('fore-finger', 1), ('alderman', 1), ('team', 1), ('little', 13), ('atomies', 1), ('noses', 1), ('waggon-spokes', 1), ('spinners', 1), ('grasshoppers', 1), ('traces', 1), ('smallest', 1), ('spider', 1), ('web', 1), ('collars', 1), ('moonshine', 1), ('watery', 1), ('beams', 2), ('whip', 2), ('cricket', 1), ('bone', 2), ('lash', 1), ('film', 1), ('waggoner', 2), ('small', 2), ('grey-coated', 1), ('gnat', 1), ('half', 5), ('round', 1), ('lazy', 1), ('finger', 2), ('chariot', 1), ('empty', 4), ('hazelnut', 1), ('joiner', 1), ('squirrel', 1), ('grub', 1), ('coachmakers', 1), ('state', 5), ('gallops', 2), ('brains', 2), ('courtiers', 1), ('knees', 3), ('curtsies', 1), ('lawyers', 1), ('fingers', 5), ('fees', 1), ('lips', 17), ('kisses', 4), ('oft', 4), ('angry', 1), ('blisters', 1), ('plagues', 1), ('breaths', 1), ('sweetmeats', 1), ('tainted', 1), ('sometime', 4), ('courtier', 1), ('nose', 2), ('dreams', 5), ('smelling', 1), ('tithe-pig', 1), ('tail', 1), ('tickling', 1), ('parson', 1), ('benefice', 1), ('driveth', 1), ('soldier', 2), ('cutting', 1), ('foreign', 1), ('throats', 1), ('breaches', 1), ('ambuscados', 1), ('spanish', 1), ('blades', 1), ('healths', 1), ('fathom', 1), ('anon', 7), ('drums', 1), ('ear', 7), ('starts', 2), ('wakes', 3), ('frighted', 1), ('swears', 1), ('prayer', 3), ('sleeps', 2), ('plats', 1), ('manes', 1), ('horses', 2), ('bakes', 1), ('elf-locks', 1), ('foul', 4), ('sluttish', 1), ('hairs', 1), ('untangled', 1), ('misfortune', 2), ('bodes', 1), ('hag', 1), ('backs', 1), ('presses', 2), ('learns', 1), ('carriage', 1), ('idle', 1), ('begot', 1), ('fantasy', 1), ('thin', 1), ('substance', 3), ('inconstant', 3), ('wind', 3), ('woos', 1), ('frozen', 1), ('bosom', 8), ('north', 1), ('anger', 5), ('puffs', 1), ('thence', 2), ('dew-dropping', 1), ('south', 1), ('late', 12), ('misgives', 1), ('consequence', 1), ('hanging', 1), ('revels', 1), ('expire', 1), ('term', 2), ('despised', 2), ('clos', 3), ('vile', 8), ('untimely', 5), ('steerage', 1), ('course', 4), ('direct', 1), ('gentlemen', 10), ('drum', 1), ('waiting', 1), ('potpan', 2), ('helps', 2), ('shift', 1), ('trencher', 2), ('scrape', 1), ('second', 16), ('manners', 2), ('unwash', 1), ('join-stools', 1), ('court-cupboard', 1), ('plate', 1), ('marchpane', 1), ('loves', 3), ('porter', 1), ('grindstone', 1), ('nell', 1), ('antony', 1), ('boy', 10), ('ready', 5), ('looked', 1), ('cheerly', 2), ('boys', 1), ('brisk', 1), ('longer', 5), ('liver', 1), ('c', 2), ('gentlewomen', 1), ('toes', 1), ('unplagu', 1), ('corns', 2), ('bout', 1), ('ah', 16), ('mistresses', 1), ('deny', 4), ('dainty', 1), ('swear', 9), ('worn', 4), ('whispering', 1), ('tale', 6), ('girls', 1), ('music', 10), ('plays', 2), ('knaves', 1), ('tables', 1), ('grown', 2), ('hot', 7), ('unlook', 1), ('d-for', 1), ('sport', 2), ('sit', 7), ('past', 7), ('r', 3), ('thirty', 2), ('nuptial', 1), ('lucentio', 1), ('pentecost', 1), ('twenty', 10), ('elder', 1), ('ward', 1), ('ago', 2), ('enrich', 1), ('hand', 25), ('yonder', 6), ('knight', 2), ('torches', 2), ('seems', 2), ('hangs', 2), ('cheek', 6), ('jewel', 1), ('ethiop', 1), ('use', 14), ('dear', 26), ('snowy', 1), ('dove', 2), ('trooping', 1), ('crows', 1), ('fellows', 3), ('watch', 24), ('touching', 1), ('blessed', 5), ('forswear', 1), ('fetch', 7), ('rapier', 3), ('dares', 4), ('hither', 12), ('antic', 2), ('fleer', 1), ('solemnity', 3), ('stock', 1), ('kin', 1), ('sin', 13), ('wherefore', 5), ('storm', 2), ('bears', 2), ('portly', 1), ('truth', 4), ('brags', 2), ('virtuous', 3), ('well-govern', 1), ('youth', 6), ('wealth', 2), ('town', 4), ('disparagement', 1), ('respect', 2), ('presence', 2), ('frowns', 1), ('ill-beseeming', 2), ('semblance', 1), ('fits', 1), ('endure', 2), ('endur', 1), ('goodman', 1), ('cock-a-hoop', 1), ('shame', 12), ('saucy', 2), ('trick', 1), ('chance', 3), ('scathe', 1), ('contrary', 3), ('hearts', 3), ('—you', 1), ('princox', 1), ('or—more', 1), ('—for', 1), ('patience', 5), ('perforce', 2), ('wilful', 1), ('meeting', 1), ('tremble', 2), ('different', 2), ('greeting', 2), ('withdraw', 3), ('intrusion', 1), ('seeming', 3), ('convert', 1), ('profane', 1), ('unworthiest', 1), ('holy', 21), ('shrine', 1), ('blushing', 1), ('pilgrims', 2), ('smooth', 2), ('touch', 3), ('pilgrim', 2), ('mannerly', 1), ('devotion', 2), ('saints', 3), ('palm', 2), ('palmers', 2), ('saint', 8), ('grant', 2), ('lest', 4), ('prayers', 2), ('sake', 4), ('effect', 2), ('kissing', 1), ('took', 5), ('trespass', 1), ('sweetly', 1), ('craves', 3), ('bachelor', 1), ('chinks', 1), ('account', 2), ('unrest', 1), ('prepare', 5), ('trifling', 1), ('foolish', 2), ('banquet', 1), ('en', 4), ('thank', 6), ('honest', 7), ('fay', 1), ('waxes', 1), ('yond', 5), ('heir', 5), ('tiberio', 1), ('door', 4), ('petruchio', 1), ('follows', 1), ('name', 26), ('wedding', 5), ('enemy', 6), ('sprung', 1), ('unknown', 1), ('prodigious', 1), ('birth', 4), ('loathed', 2), ('rhyme', 2), ('danc', 1), ('strangers', 1), ('desire', 2), ('deathbed', 1), ('affection', 2), ('gapes', 1), ('belov', 1), ('bewitched', 1), ('charm', 1), ('looks', 7), ('complain', 1), ('steal', 2), ('bait', 1), ('hooks', 1), ('held', 2), ('access', 1), ('breathe', 1), ('vows', 1), ('meet', 8), ('beloved', 1), ('anywhere', 1), ('passion', 3), ('power', 5), ('tempering', 1), ('extremities', 1), ('extreme', 1), ('forward', 1), ('centre', 1), ('climbs', 1), ('leaps', 1), ('stol', 2), ('n', 2), ('ran', 4), ('leap', 3), ('orchard', 2), ('conjure', 4), ('humours', 1), ('appear', 3), ('likeness', 3), ('sigh', 1), ('satisfied', 5), ('cry', 4), ('pronounce', 3), ('gossip', 2), ('venus', 2), ('nickname', 1), ('purblind', 1), ('abraham', 1), ('shot', 2), ('trim', 2), ('king', 2), ('cophetua', 1), ('beggar-maid', 1), ('heareth', 1), ('stirreth', 1), ('moveth', 1), ('ape', 1), ('high', 8), ('forehead', 1), ('scarlet', 2), ('lip', 1), ('fine', 4), ('leg', 2), ('quivering', 1), ('thigh', 1), ('demesnes', 2), ('adjacent', 1), ('twould', 1), ('raise', 4), ('spirit', 4), ('circle', 1), ('strange', 6), ('nature', 6), ('letting', 1), ('conjur', 1), ('invocation', 1), ('hid', 3), ('trees', 1), ('consorted', 1), ('humorous', 1), ('befits', 1), ('medlar', 1), ('tree', 4), ('kind', 6), ('fruit', 1), ('medlars', 1), ('open-arse', 1), ('poperin', 1), ('pear', 1), ('truckle-bed', 1), ('field-bed', 1), ('jests', 1), ('scars', 1), ('wound', 3), ('appears', 1), ('breaks', 1), ('arise', 3), ('kill', 17), ('moon', 4), ('pale', 11), ('vestal', 2), ('livery', 2), ('green', 4), ('wear', 4), ('knew', 3), ('speaks', 6), ('says', 10), ('discourses', 2), ('answer', 10), ('bold', 4), ('fairest', 1), ('business', 3), ('entreat', 2), ('twinkle', 1), ('spheres', 1), ('return', 6), ('brightness', 1), ('lamp', 1), ('region', 1), ('stream', 1), ('birds', 1), ('sing', 2), ('leans', 1), ('glove', 1), ('angel', 1), ('glorious', 1), ('winged', 1), ('messenger', 2), ('white-upturned', 1), ('wondering', 1), ('mortals', 2), ('gaze', 3), ('bestrides', 1), ('lazy-puffing', 1), ('sails', 1), ('refuse', 1), ('thyself', 7), ('rose', 1), ('smell', 1), ('retain', 1), ('perfection', 1), ('owes', 1), ('title', 1), ('doff', 1), ('baptis', 1), ('henceforth', 2), ('bescreen', 1), ('stumblest', 1), ('hateful', 4), ('tear', 5), ('drunk', 2), ('hundred', 3), ('words', 7), ('tongue', 11), ('utterance', 1), ('sound', 13), ('dislike', 1), ('cam', 2), ('walls', 3), ('climb', 2), ('considering', 1), ('erperch', 1), ('stony', 2), ('limits', 1), ('attempt', 1), ('stop', 6), ('murder', 10), ('alack', 11), ('peril', 1), ('enmity', 2), ('cloak', 1), ('ended', 2), ('prorogued', 1), ('wanting', 2), ('direction', 1), ('prompt', 1), ('enquire', 2), ('lent', 4), ('pilot', 2), ('vast', 1), ('shore', 1), ('wash', 5), ('adventure', 2), ('merchandise', 1), ('maiden', 1), ('bepaint', 1), ('fain', 5), ('dwell', 3), ('form', 5), ('compliment', 1), ('mayst', 3), ('false', 2), ('perjuries', 1), ('jove', 1), ('laughs', 1), ('faithfully', 1), ('thinkest', 2), ('perverse', 1), ('fond', 3), ('haviour', 1), ('trust', 5), ('cunning', 2), ('confess', 3), ('overheard', 1), ('true-love', 1), ('pardon', 11), ('impute', 1), ('yielding', 1), ('discovered', 1), ('tips', 1), ('silver', 9), ('fruit-tree', 1), ('tops', 2), ('monthly', 1), ('changes', 1), ('circled', 1), ('orb', 1), ('likewise', 2), ('variable', 1), ('gracious', 1), ('idolatry', 1), ('although', 1), ('joy', 14), ('contract', 1), ('rash', 1), ('unadvis', 1), ('sudden', 7), ('lightning', 4), ('cease', 3), ('“', 1), ('lightens', 1), ('”', 1), ('ripening', 1), ('next', 7), ('repose', 1), ('unsatisfied', 1), ('satisfaction', 1), ('exchange', 3), ('faithful', 3), ('gave', 4), ('didst', 6), ('request', 1), ('purpose', 3), ('frank', 1), ('bounty', 1), ('boundless', 1), ('infinite', 1), ('adieu', 4), ('—sweet', 1), ('afeard', 1), ('flattering', 2), ('substantial', 1), ('bent', 1), ('send', 13), ('tomorrow', 15), ('procure', 1), ('perform', 1), ('rite', 2), ('fortunes', 1), ('throughout', 1), ('anon.—', 1), ('meanest', 1), ('come—', 1), ('thrive', 1), ('worse', 3), ('want', 2), ('toward', 3), ('schoolboys', 1), ('books', 1), ('school', 1), ('retiring', 1), ('slowly', 1), ('re-enter', 6), ('hist', 2), ('falconer', 1), ('lure', 1), ('tassel-gentle', 1), ('bondage', 1), ('hoarse', 2), ('aloud', 2), ('cave', 2), ('echo', 1), ('repetition', 1), ('silver-sweet', 1), ('tongues', 1), ('softest', 1), ('attending', 1), ('clock', 3), ('fail', 2), ('forgot', 2), ('remembering', 1), ('company', 6), ('forgetting', 1), ('almost', 3), ('wanton', 3), ('bird', 3), ('lets', 1), ('hop', 1), ('prisoner', 1), ('twisted', 1), ('gyves', 1), ('silk', 2), ('thread', 1), ('plucks', 1), ('loving-jealous', 1), ('cherishing', 1), ('parting', 1), ('sorrow', 8), ('ghostly', 4), ('sire', 1), ('help', 18), ('crave', 1), ('hap', 2), ('basket', 1), ('grey-ey', 1), ('morn', 3), ('smiles', 2), ('frowning', 1), ('chequering', 1), ('eastern', 1), ('streaks', 2), ('fleckled', 1), ('darkness', 1), ('drunkard', 1), ('reels', 1), ('pathway', 1), ('titan', 1), ('wheels', 1), ('advance', 1), ('cheer', 2), ('dank', 1), ('dry', 4), ('upfill', 1), ('osier', 1), ('cage', 1), ('baleful', 1), ('weeds', 2), ('precious-juiced', 1), ('flowers', 6), ('tomb', 7), ('burying', 1), ('womb', 4), ('divers', 1), ('sucking', 1), ('natural', 2), ('virtues', 1), ('mickle', 1), ('powerful', 1), ('plants', 1), ('herbs', 2), ('stones', 2), ('qualities', 1), ('naught', 2), ('special', 1), ('aught', 1), ('strain', 2), ('revolts', 1), ('stumbling', 1), ('abuse', 1), ('virtue', 1), ('turns', 3), ('vice', 2), ('misapplied', 1), ('action', 1), ('dignified', 1), ('infant', 1), ('rind', 1), ('residence', 1), ('medicine', 1), ('smelt', 1), ('cheers', 1), ('tasted', 1), ('slays', 1), ('senses', 1), ('opposed', 1), ('kings', 1), ('encamp', 1), ('—grace', 1), ('worser', 2), ('predominant', 1), ('full', 11), ('eats', 1), ('plant', 1), ('benedicite', 1), ('saluteth', 1), ('argues', 1), ('distemper', 1), ('keeps', 4), ('lodges', 1), ('unbruised', 1), ('unstuff', 1), ('couch', 1), ('limbs', 2), ('reign', 2), ('earliness', 1), ('assure', 1), ('uprous', 1), ('distemperature', 1), ('sweeter', 1), ('feasting', 2), ('wounded', 2), ('remedies', 1), ('physic', 1), ('hatred', 1), ('lo', 3), ('intercession', 1), ('steads', 1), ('plain', 1), ('homely', 1), ('drift', 2), ('riddling', 2), ('confession', 3), ('finds', 2), ('plainly', 1), ('combin', 1), ('combine', 1), ('met', 4), ('francis', 2), ('forsaken', 1), ('truly', 3), ('jesu', 3), ('maria', 1), ('deal', 2), ('brine', 1), ('sallow', 1), ('cheeks', 6), ('salt', 2), ('water', 2), ('thrown', 1), ('season', 1), ('clears', 1), ('groans', 2), ('ring', 5), ('stain', 3), ('woes', 8), ('chang', 2), ('chidd', 1), ('doting', 2), ('pupil', 1), ('bad', 4), ('chide', 5), ('allow', 1), ('rote', 1), ('spell', 1), ('waverer', 1), ('assistant', 1), ('alliance', 1), ('rancour', 1), ('pure', 3), ('haste', 14), ('slow', 5), ('stumble', 1), ('devil', 3), ('hard-hearted', 1), ('wench', 5), ('torments', 1), ('sure', 5), ('challenge', 2), ('write', 2), ('dared', 1), ('stabbed', 1), ('white', 2), ('song', 1), ('pin', 2), ('cleft', 1), ('bow-boy', 1), ('butt-shaft', 1), ('cats', 2), ('courageous', 1), ('captain', 1), ('compliments', 1), ('fights', 2), ('prick-song', 1), ('distance', 1), ('proportion', 2), ('rests', 1), ('minim', 1), ('third', 3), ('butcher', 1), ('button', 1), ('duellist', 2), ('immortal', 3), ('passado', 2), ('punto', 1), ('reverso', 1), ('hay', 1), ('pox', 1), ('lisping', 1), ('affecting', 1), ('phantasies', 1), ('tuners', 1), ('accent', 1), ('tall', 1), ('whore', 1), ('lamentable', 5), ('afflicted', 1), ('flies', 3), ('fashion-mongers', 1), ('pardon-me', 1), ('ease', 5), ('bench', 1), ('bones', 8), ('roe', 1), ('dried', 1), ('herring', 1), ('fishified', 1), ('numbers', 1), ('petrarch', 1), ('flowed', 1), ('laura', 1), ('kitchen', 1), ('—marry', 1), ('berhyme', 1), ('dido', 1), ('dowdy', 1), ('cleopatra', 1), ('gypsy', 1), ('helen', 1), ('hero', 1), ('hildings', 1), ('harlots', 1), ('thisbe', 1), ('grey', 2), ('bonjour', 1), ('french', 2), ('salutation', 1), ('slop', 1), ('counterfeit', 2), ('fairly', 2), ('slip', 2), ('conceive', 1), ('courtesy', 3), ('constrains', 1), ('hams', 1), ('curtsy', 1), ('kindly', 1), ('courteous', 3), ('exposition', 1), ('pink', 2), ('pump', 2), ('flowered', 1), ('single', 1), ('sole', 2), ('remain', 2), ('wearing', 2), ('solely', 2), ('singular', 2), ('single-soled', 1), ('singleness', 1), ('faint', 3), ('swits', 2), ('spurs', 2), ('wild-goose', 2), ('chase', 1), ('whole', 3), ('goose', 6), ('sweeting', 1), ('sharp', 2), ('sauce', 1), ('cheveril', 1), ('stretches', 1), ('inch', 1), ('narrow', 1), ('ell', 1), ('broad', 4), ('stretch', 1), ('added', 1), ('proves', 1), ('wide', 3), ('groaning', 1), ('sociable', 1), ('drivelling', 1), ('runs', 1), ('lolling', 1), ('bauble', 1), ('hole', 1), ('desirest', 1), ('hair', 4), ('wouldst', 3), ('large', 1), ('deceived', 1), ('depth', 1), ('meant', 2), ('occupy', 1), ('argument', 1), ('goodly', 1), ('gear', 2), ('sail', 2), ('shirt', 1), ('smock', 1), ('fan', 2), ('good-den', 3), ('gentlewoman', 4), ('bawdy', 1), ('dial', 1), ('noon', 1), ('mar', 2), ('troth', 2), ('older', 1), ('youngest', 1), ('fault', 4), ('worst', 1), ('confidence', 1), ('endite', 1), ('bawd', 3), ('hare', 5), ('lenten', 1), ('pie', 1), ('something', 4), ('stale', 1), ('hoar', 4), ('spent', 3), ('sings', 3), ('meat', 3), ('score', 1), ('hoars', 1), ('dinner', 3), ('merchant', 1), ('ropery', 1), ('minute', 4), ('month', 2), ('lustier', 1), ('jacks', 1), ('scurvy', 2), ('knave', 4), ('flirt-gills', 1), ('skains-mates.—and', 1), ('suffer', 1), ('occasion', 3), ('afore', 3), ('vexed', 1), ('quivers', 1), ('told', 3), ('paradise', 2), ('gross', 1), ('behaviour', 1), ('double', 1), ('offered', 1), ('dealing', 1), ('commend', 5), ('protest', 3), ('joyful', 5), ('gentlemanlike', 1), ('offer', 2), ('devise', 3), ('shriv', 1), ('pains', 2), ('penny', 1), ('behind', 2), ('abbey', 1), ('bring', 11), ('cords', 6), ('tackled', 1), ('stair', 1), ('topgallant', 1), ('convoy', 1), ('trusty', 1), ('quit', 1), ('bless', 2), ('hark', 4), ('sweetest', 3), ('prating', 1), ('—o', 3), ('knife', 4), ('aboard', 1), ('lief', 1), ('toad', 3), ('sometimes', 1), ('properer', 1), ('clout', 1), ('versal', 1), ('rosemary', 3), ('mocker', 1), ('the—no', 1), ('begins', 2), ('sententious', 1), ('apace', 2), ('promised', 1), ('perchance', 1), ('lame', 1), ('heralds', 1), ('thoughts', 3), ('ten', 2), ('faster', 1), ('glides', 1), ('driving', 1), ('shadows', 2), ('lowering', 1), ('hills', 1), ('nimble-pinion', 1), ('doves', 1), ('wind-swift', 1), ('highmost', 1), ('hill', 1), ('journey', 1), ('warm', 4), ('youthful', 3), ('swift', 3), ('motion', 2), ('ball', 1), ('bandy', 1), ('folks', 1), ('feign', 1), ('unwieldy', 1), ('honey', 3), ('news', 15), ('gate', 1), ('merrily', 1), ('sham', 2), ('playing', 1), ('sour', 4), ('aweary', 1), ('fie', 6), ('ache', 1), ('jaunt', 1), ('circumstance', 2), ('simple', 5), ('excels', 2), ('body', 11), ('talked', 1), ('ways', 2), ('dined', 1), ('aches', 1), ('pieces', 1), ('beshrew', 4), ('sending', 1), ('catch', 2), ('jauncing', 1), ('sorry', 1), ('handsome', 1), ('—where', 1), ('oddly', 1), ('repliest', 1), ('poultice', 1), ('aching', 1), ('henceforward', 2), ('messages', 1), ('coil', 1), ('got', 3), ('hie', 8), ('church', 10), ('ladder', 1), ('nest', 2), ('drudge', 1), ('smile', 2), ('heavens', 3), ('after-hours', 1), ('amen', 4), ('countervail', 1), ('love-devouring', 1), ('violent', 2), ('delights', 2), ('ends', 1), ('triumph', 2), ('powder', 3), ('consume', 1), ('loathsome', 3), ('deliciousness', 1), ('confounds', 1), ('appetite', 1), ('moderately', 1), ('arrives', 1), ('tardy', 1), ('everlasting', 2), ('flint', 1), ('bestride', 1), ('gossamers', 1), ('idles', 1), ('confessor', 2), ('thanks', 3), ('heap', 1), ('skill', 1), ('blazon', 1), ('sweeten', 1), ('neighbour', 1), ('unfold', 1), ('imagin', 1), ('happiness', 2), ('receive', 1), ('conceit', 2), ('ornament', 2), ('beggars', 1), ('worth', 1), ('excess', 1), ('sum', 2), ('work', 4), ('incorporate', 1), ('retire', 1), ('scape', 2), ('brawl', 2), ('stirring', 1), ('enters', 2), ('confines', 1), ('tavern', 1), ('claps', 1), ('table', 1), ('operation', 1), ('draws', 2), ('drawer', 1), ('jack', 2), ('mood', 1), ('italy', 1), ('moody', 2), ('shortly', 1), ('beard', 1), ('cracking', 1), ('nuts', 1), ('reason', 6), ('hazel', 1), ('spy', 2), ('quarrels', 1), ('egg', 2), ('beaten', 1), ('addle', 1), ('quarrelling', 2), ('quarrelled', 1), ('coughing', 1), ('wakened', 1), ('lain', 3), ('doublet', 1), ('easter', 1), ('tying', 1), ('riband', 1), ('tutor', 1), ('apt', 3), ('buy', 3), ('fee', 2), ('quarter', 1), ('couple', 1), ('consortest', 1), ('consort', 3), ('minstrels', 2), ('discords', 3), ('fiddlestick', 1), ('zounds', 2), ('haunt', 1), ('coldly', 1), ('grievances', 1), ('budge', 1), ('hanged', 1), ('field', 2), ('follower', 1), ('worship', 2), ('afford', 3), ('appertaining', 1), ('injuries', 1), ('injur', 1), ('dearly', 2), ('calm', 3), ('dishonourable', 1), ('submission', 1), ('alla', 1), ('stoccata', 1), ('carries', 1), ('rat-catcher', 1), ('hereafter', 2), ('dry-beat', 2), ('eight', 1), ('pluck', 2), ('pilcher', 1), ('drawing', 2), ('forbear', 2), ('outrage', 2), ('expressly', 1), ('bandying', 1), ('partizans', 1), ('plague', 3), ('sped', 1), ('scratch', 3), ('surgeon', 1), ('courage', 1), ('twill', 1), ('peppered', 1), ('rat', 1), ('cat', 2), ('braggart', 1), ('rogue', 1), ('arithmetic', 1), ('—why', 1), ('thought', 8), ('worms', 2), ('soundly', 2), ('ally', 1), ('mortal', 3), ('behalf', 1), ('reputation', 1), ('slander', 3), ('—tybalt', 1), ('effeminate', 1), ('temper', 3), ('soften', 1), ('valour', 3), ('brave', 2), ('gallant', 2), ('aspir', 1), ('fate', 1), ('mo', 1), ('depend', 1), ('furious', 1), ('slain', 17), ('respective', 1), ('lenity', 1), ('fire-ey', 1), ('fury', 3), ('conduct', 3), ('gav', 1), ('staying', 1), ('wretched', 3), ('determine', 2), ('falls', 5), ('amaz', 2), ('doom', 6), ('taken', 1), ('murderer', 3), ('charge', 3), ('obey', 2), ('attended', 1), ('wives', 1), ('beginners', 1), ('discover', 1), ('unlucky', 2), ('slew', 6), ('spill', 1), ('shed', 2), ('slay', 5), ('bethink', 2), ('nice', 2), ('displeasure', 1), ('uttered', 1), ('humbly', 1), ('truce', 1), ('unruly', 1), ('spleen', 1), ('deaf', 2), ('tilts', 1), ('piercing', 1), ('deadly', 3), ('point', 5), ('martial', 1), ('sends', 1), ('dexterity', 1), ('retorts', 1), ('cries', 3), ('swifter', 1), ('agile', 1), ('points', 1), ('twixt', 2), ('stout', 2), ('newly', 2), ('entertain', 1), ('revenge', 1), ('fell', 1), ('beg', 4), ('justice', 1), ('price', 2), ('owe', 1), ('concludes', 1), ('offence', 1), ('immediately', 2), ('exile', 6), ('interest', 1), ('proceeding', 1), ('a-bleeding', 1), ('amerce', 1), ('repent', 2), ('loss', 4), ('pleading', 1), ('excuses', 1), ('purchase', 1), ('abuses', 1), ('mercy', 5), ('murders', 2), ('pardoning', 1), ('gallop', 1), ('fiery-footed', 1), ('steeds', 1), ('phoebus', 1), ('lodging', 2), ('phaeton', 1), ('west', 1), ('cloudy', 1), ('curtain', 1), ('love-performing', 1), ('runaway', 1), ('wink', 1), ('arms', 2), ('untalk', 1), ('unseen', 1), ('amorous', 2), ('rites', 1), ('agrees', 1), ('sober-suited', 1), ('matron', 1), ('lose', 2), ('winning', 1), ('stainless', 1), ('maidenhoods', 1), ('hood', 1), ('unmann', 1), ('bating', 1), ('mantle', 1), ('acted', 1), ('modesty', 3), ('whiter', 1), ('snow', 1), ('raven', 2), ('black-brow', 1), ('garish', 1), ('bought', 1), ('mansion', 2), ('sold', 2), ('enjoy', 1), ('tedious', 2), ('festival', 2), ('impatient', 1), ('robes', 2), ('brings', 2), ('heavenly', 1), ('eloquence', 1), ('throws', 2), ('wring', 1), ('well-a-day', 2), ('undone', 2), ('torment', 1), ('roar', 1), ('dismal', 2), ('bare', 3), ('vowel', 1), ('death-darting', 1), ('cockatrice', 1), ('sounds', 1), ('weal', 1), ('—here', 2), ('manly', 1), ('corse', 7), ('ashes', 2), ('bedaub', 1), ('gore-blood', 1), ('swounded', 1), ('bankrout', 1), ('resign', 1), ('press', 2), ('bier', 2), ('slaughter', 4), ('dearest', 2), ('dearer', 1), ('dreadful', 1), ('trumpet', 1), ('general', 2), ('living', 5), ('banished', 20), ('serpent', 1), ('flowering', 1), ('dragon', 1), ('beautiful', 1), ('fiend', 3), ('angelical', 1), ('dove-feather', 1), ('wolvish-ravening', 1), ('divinest', 1), ('opposite', 1), ('justly', 1), ('damned', 4), ('bower', 1), ('containing', 1), ('deceit', 1), ('gorgeous', 1), ('palace', 2), ('honesty', 1), ('perjur', 1), ('dissemblers', 1), ('aqua', 2), ('vitae', 2), ('blister', 1), ('born', 3), ('asham', 1), ('throne', 2), ('crown', 1), ('monarch', 1), ('universal', 1), ('beast', 3), ('three-hours', 1), ('mangled', 2), ('native', 2), ('spring', 2), ('tributary', 1), ('drops', 1), ('belong', 1), ('mistaking', 1), ('memory', 1), ('guilty', 2), ('deeds', 1), ('sinners', 1), ('minds', 1), ('tybalts', 1), ('fellowship', 1), ('needly', 1), ('modern', 1), ('lamentation', 2), ('mov', 1), ('rear-ward', 1), ('following', 1), ('—to', 1), ('limit', 1), ('weeping', 4), ('wailing', 1), ('wounds', 1), ('banishment', 6), ('ropes', 1), ('beguil', 3), ('exil', 1), ('highway', 1), ('maiden-widowed', 1), ('wot', 1), ('affliction', 1), ('enanmour', 1), ('parts', 2), ('wedded', 2), ('calamity', 1), ('acquaintance', 1), ('familiar', 1), ('tidings', 3), ('doomsday', 2), ('gentler', 1), ('vanish', 1), ('ha', 5), ('merciful', 2), ('terror', 2), ('purgatory', 1), ('banish', 4), ('misterm', 1), ('calling', 1), ('cutt', 1), ('axe', 1), ('smilest', 1), ('stroke', 1), ('unthankfulness', 1), ('taking', 2), ('brush', 1), ('unworthy', 2), ('validity', 1), ('courtship', 1), ('carrion', 2), ('seize', 1), ('wonder', 2), ('blessing', 1), ('thinking', 1), ('free', 2), ('mix', 1), ('sharp-ground', 1), ('howling', 1), ('attends', 1), ('divine', 1), ('sin-absolver', 1), ('profess', 1), ('mangle', 1), ('armour', 1), ('adversity', 1), ('milk', 1), ('philosophy', 3), ('hang', 5), ('displant', 1), ('reverse', 1), ('prevails', 1), ('dispute', 1), ('estate', 1), ('murdered', 1), ('mightst', 2), ('unmade', 1), ('knocking', 4), ('knocks', 2), ('heartsick', 1), ('mist-like', 1), ('infold', 1), ('search', 4), ('—who', 1), ('—romeo', 1), ('taken.—stay', 1), ('awhile.—stand', 1), ('study.—by-and-by.—god', 1), ('simpleness', 1), ('this.—i', 1), ('errand', 1), ('woeful', 7), ('sympathy', 1), ('predicament', 1), ('blubbering', 2), ('rise', 1), ('spakest', 1), ('childhood', 1), ('remov', 1), ('conceal', 1), ('cancell', 1), ('weeps', 4), ('level', 1), ('gun', 1), ('anatomy', 1), ('lodge', 1), ('sack', 1), ('womanish', 2), ('wild', 3), ('acts', 1), ('denote', 1), ('unreasonable', 1), ('unseemly', 1), ('rail', 1), ('usurer', 1), ('abound', 1), ('usest', 1), ('bedeck', 1), ('digressing', 1), ('hollow', 3), ('perjury', 1), ('killing', 1), ('cherish', 1), ('skilless', 1), ('flask', 1), ('afire', 1), ('ignorance', 1), ('dismember', 1), ('defence', 1), ('rouse', 3), ('alive', 1), ('lately', 1), ('threaten', 2), ('becomes', 1), ('pack', 2), ('blessings', 1), ('courts', 1), ('array', 2), ('misshaped', 1), ('sullen', 2), ('putt', 1), ('heed', 2), ('miserable', 2), ('decreed', 1), ('ascend', 1), ('blaze', 1), ('reconcile', 1), ('hasten', 1), ('coming', 4), ('learning', 1), ('grows', 2), ('reviv', 2), ('disguis', 1), ('sojourn', 1), ('signify', 1), ('chances', 1), ('fallen', 1), ('unluckily', 1), ('promise', 1), ('abed', 1), ('tune', 2), ('mew', 1), ('heaviness', 2), ('respects', 1), ('doubt', 4), ('acquaint', 1), ('wednesday', 3), ('monday', 2), ('thursday', 14), ('earl', 1), ('ado', 1), ('—a', 1), ('carelessly', 1), ('revel', 1), ('dozen', 1), ('lord.—light', 1), ('nightingale', 3), ('lark', 6), ('pierc', 1), ('nightly', 4), ('pomegranate', 1), ('herald', 1), ('lace', 1), ('severing', 1), ('candles', 1), ('jocund', 1), ('tiptoe', 1), ('misty', 1), ('mountain', 1), ('meteor', 1), ('exhales', 1), ('torchbearer', 1), ('ta', 2), ('yon', 1), ('reflex', 1), ('cynthia', 1), ('notes', 1), ('vaulty', 1), ('wills', 1), ('straining', 1), ('harsh', 1), ('unpleasing', 1), ('sharps', 1), ('division', 1), ('divideth', 1), ('voices', 1), ('affray', 1), ('hunting', 1), ('hunt', 1), ('s-up', 1), ('wary', 1), ('descend', 2), ('descends', 1), ('omit', 1), ('opportunity', 1), ('convey', 1), ('greetings', 1), ('ill-divining', 1), ('methinks', 3), ('low', 2), ('bottom', 2), ('fails', 1), ('drinks', 2), ('fickle', 3), ('renown', 1), ('hope', 4), ('unaccustom', 3), ('procures', 1), ('evermore', 2), ('couldst', 2), ('feeling', 2), ('miles', 1), ('asunder', 1), ('grieve', 1), ('traitor', 1), ('reach', 1), ('venge', 1), ('vengeance', 2), ('runagate', 1), ('dram', 2), ('him—dead—', 1), ('receipt', 1), ('thereof', 1), ('abhors', 1), ('nam', 1), ('wreak', 1), ('bore', 2), ('needy', 3), ('ladyship', 1), ('careful', 1), ('sorted', 1), ('expects', 1), ('happily', 2), ('wed', 3), ('sets', 1), ('drizzle', 1), ('sunset', 1), ('rains', 1), ('downright', 1), ('conduit', 1), ('showering', 1), ('counterfeits', 1), ('bark', 3), ('ebb', 1), ('flow', 1), ('sailing', 1), ('flood', 1), ('raging', 1), ('overset', 1), ('tempest-tossed', 1), ('deliver', 2), ('decree', 1), ('proud', 6), ('blest', 2), ('wrought', 2), ('worthy', 1), ('bridegroom', 4), ('thankful', 2), ('chopp', 1), ('logic', 1), ('minion', 1), ('thankings', 1), ('prouds', 1), ('fettle', 1), ('joints', 3), ('gainst', 1), ('drag', 1), ('hurdle', 1), ('green-sickness', 1), ('baggage', 2), ('tallow-face', 1), ('disobedient', 2), ('—get', 1), ('reply', 1), ('itch', 1), ('scarce', 1), ('curse', 1), ('hilding', 1), ('blame', 1), ('rate', 2), ('prudence', 1), ('smatter', 1), ('gossips', 1), ('treason', 1), ('good-en', 1), ('mumbling', 1), ('utter', 1), ('gravity', 1), ('bowl', 1), ('bread', 1), ('ride', 1), ('provided', 1), ('parentage', 1), ('nobly', 1), ('allied', 1), ('stuff', 2), ('puling', 1), ('whining', 1), ('mammet', 1), ('graze', 1), ('advise', 1), ('starve', 1), ('acknowledge', 1), ('sees', 1), ('week', 2), ('bridal', 3), ('dim', 2), ('prevented', 1), ('leaving', 1), ('practise', 1), ('stratagems', 1), ('subject', 1), ('needs', 4), ('stealth', 1), ('dishclout', 1), ('eagle', 1), ('quick', 2), ('twere', 1), ('speakest', 1), ('comforted', 1), ('marvellous', 1), ('displeas', 1), ('absolv', 1), ('damnation', 1), ('wicked', 1), ('dispraise', 1), ('prais', 1), ('twain', 2), ('remedy', 3), ('slack', 1), ('uneven', 1), ('immoderately', 1), ('counts', 1), ('dangerous', 1), ('sway', 1), ('hastes', 1), ('inundation', 1), ('minded', 1), ('society', 1), ('d.—', 1), ('certain', 1), ('text', 1), ('abus', 1), ('victory', 1), ('report', 1), ('spake', 2), ('leisure', 2), ('evening', 1), ('mass', 2), ('serves', 1), ('pensive', 1), ('now.—', 1), ('shield', 1), ('strains', 1), ('compass', 1), ('prorogue', 1), ('prevent', 2), ('resolution', 1), ('presently', 3), ('join', 1), ('seal', 4), ('label', 1), ('deed', 1), ('treacherous', 1), ('revolt', 1), ('long-experienc', 1), ('present', 3), ('extremes', 1), ('empire', 1), ('arbitrating', 1), ('commission', 1), ('issue', 1), ('execution', 1), ('likely', 1), ('undertake', 1), ('cop', 1), ('dar', 1), ('battlements', 1), ('tower', 1), ('thievish', 1), ('lurk', 1), ('serpents', 1), ('chain', 1), ('roaring', 2), ('charnel-house', 1), ('er-cover', 1), ('quite', 2), ('rattling', 1), ('reeky', 1), ('shanks', 1), ('yellow', 1), ('chapless', 1), ('skulls', 2), ('new-made', 2), ('shroud', 3), ('unstain', 1), ('vial', 2), ('distilled', 1), ('liquor', 1), ('drink', 5), ('drowsy', 1), ('pulse', 1), ('progress', 1), ('surcease', 1), ('warmth', 1), ('testify', 1), ('livest', 1), ('roses', 2), ('fade', 1), ('paly', 1), ('depriv', 1), ('supple', 1), ('government', 1), ('stiff', 2), ('stark', 1), ('shrunk', 1), ('continue', 1), ('forty', 2), ('awake', 2), ('pleasant', 1), ('manner', 1), ('country', 1), ('uncover', 1), ('borne', 1), ('vault', 9), ('kindred', 3), ('meantime', 3), ('waking', 3), ('toy', 1), ('abate', 1), ('acting', 1), ('prosperous', 2), ('resolve', 1), ('speed', 3), ('invite', 1), ('hire', 3), ('cooks', 1), ('try', 2), ('lick', 3), ('cook', 2), ('begone', 1), ('unfurnish', 1), ('forsooth', 1), ('peevish', 1), ('self-will', 1), ('harlotry', 1), ('headstrong', 1), ('gadding', 1), ('learnt', 1), ('opposition', 1), ('behests', 1), ('enjoin', 1), ('prostrate', 1), ('knot', 1), ('knit', 1), ('becomed', 1), ('stepping', 1), ('bounds', 1), ('reverend', 1), ('closet', 1), ('sort', 1), ('needful', 1), ('fit', 2), ('furnish', 1), ('provision', 1), ('tush', 2), ('deck', 1), ('housewife', 1), ('once.—what', 1), ('wondrous', 1), ('wayward', 1), ('reclaim', 1), ('attires', 1), ('orisons', 1), ('cross', 2), ('busy', 1), ('cull', 1), ('necessaries', 1), ('behoveful', 1), ('knows', 3), ('thrills', 1), ('freezes', 1), ('heat', 1), ('—what', 1), ('mixture', 1), ('laying', 2), ('dagger', 7), ('subtly', 1), ('minister', 1), ('dishonour', 1), ('tried', 1), ('wake', 5), ('redeem', 1), ('stifled', 1), ('mouth', 2), ('healthsome', 1), ('breathes', 1), ('strangled', 1), ('horrible', 1), ('together', 1), ('receptacle', 1), ('buried', 4), ('ancestors', 1), ('festering', 1), ('spirits', 1), ('resort—', 1), ('smells', 1), ('shrieks', 1), ('mandrakes', 1), ('torn', 1), ('hearing', 2), ('distraught', 1), ('environed', 1), ('hideous', 1), ('fears', 1), ('madly', 1), ('forefathers', 1), ('club', 1), ('dash', 1), ('ghost', 1), ('seeking', 1), ('spit', 1), ('keys', 1), ('spices', 1), ('dates', 1), ('quinces', 1), ('pastry', 1), ('cock', 1), ('curfew', 1), ('bell', 2), ('rung', 1), ('bak', 1), ('meats', 1), ('angelica', 1), ('spare', 1), ('cost', 1), ('cot-quean', 1), ('watching', 2), ('whit', 1), ('lesser', 1), ('mouse-hunt', 1), ('jealous-hood', 2), ('spits', 1), ('logs', 3), ('baskets', 1), ('—sirrah', 1), ('drier', 1), ('trouble', 2), ('whoreson', 1), ('loggerhead.—good', 1), ('waken', 1), ('chat', 1), ('slug-abed', 1), ('sweetheart', 1), ('pennyworths', 1), ('forgive', 2), ('fright', 1), ('dress', 1), ('clothes', 1), ('revive', 1), ('deceas', 1), ('settled', 1), ('separated', 1), ('frost', 1), ('woful', 1), ('wail', 1), ('ties', 1), ('deflowered', 1), ('son-in-law', 1), ('accurs', 1), ('unhappy', 2), ('lasting', 1), ('labour', 1), ('pilgrimage', 1), ('solace', 1), ('cruel', 3), ('divorced', 1), ('wronged', 1), ('spited', 1), ('detestable', 2), ('overthrown', 1), ('despis', 1), ('distressed', 1), ('hated', 1), ('martyr', 1), ('uncomfortable', 1), ('joys', 2), ('confusion', 1), ('confusions', 1), ('eternal', 1), ('promotion', 1), ('advanc', 2), ('seeing', 2), ('stick', 1), ('custom', 1), ('bids', 1), ('lament', 1), ('merriment', 1), ('ordained', 1), ('office', 2), ('funeral', 1), ('instruments', 2), ('melancholy', 1), ('bells', 1), ('burial', 1), ('solemn', 1), ('hymns', 1), ('dirges', 1), ('everyone', 1), ('lower', 1), ('crossing', 1), ('musician', 14), ('pipes', 1), ('pitiful', 2), ('amended', 1), ('dump', 2), ('money', 1), ('gleek', 1), ('minstrel', 1), ('serving-creature', 2), ('pate', 1), ('crotchets', 1), ('fa', 2), ('iron', 4), ('griping', 1), ('doleful', 1), ('dumps', 1), ('oppress', 1), ('simon', 1), ('catling', 1), ('prates', 2), ('hugh', 1), ('rebeck', 1), ('james', 1), ('soundpost', 1), ('singer', 1), ('speedy', 1), ('lend', 1), ('redress', 1), ('pestilent', 1), ('tarry', 1), ('mourners', 1), ('presage', 1), ('lightly', 1), ('lifts', 1), ('cheerful', 1), ('emperor', 1), ('fares', 1), ('capel', 1), ('angels', 1), ('post', 2), ('bringing', 1), ('defy', 2), ('ink', 1), ('post-horses', 1), ('import', 2), ('misadventure', 2), ('deceiv', 1), ('mischief', 1), ('hereabouts', 1), ('dwells', 1), ('—which', 1), ('noted', 1), ('tatter', 1), ('overwhelming', 1), ('culling', 1), ('simples', 1), ('meagre', 1), ('shop', 2), ('tortoise', 1), ('hung', 1), ('alligator', 1), ('skins', 1), ('ill-shaped', 1), ('fishes', 1), ('shelves', 1), ('beggarly', 1), ('boxes', 1), ('earthen', 1), ('pots', 1), ('bladders', 1), ('musty', 1), ('seeds', 1), ('remnants', 1), ('packthread', 1), ('cakes', 1), ('thinly', 1), ('scatter', 1), ('noting', 1), ('penury', 1), ('sale', 1), ('caitiff', 1), ('sell', 4), ('forerun', 1), ('holiday', 1), ('beggar', 1), ('loud', 1), ('ducats', 1), ('soon-speeding', 1), ('disperse', 1), ('life-weary', 1), ('taker', 1), ('trunk', 1), ('discharg', 1), ('violently', 1), ('hasty', 1), ('fir', 1), ('hurry', 1), ('cannon', 1), ('drugs', 2), ('utters', 1), ('wretchedness', 1), ('famine', 1), ('starveth', 1), ('contempt', 1), ('beggary', 1), ('affords', 1), ('poverty', 2), ('consents', 1), ('liquid', 1), ('despatch', 1), ('compounds', 1), ('cordial', 1), ('barefoot', 1), ('associate', 1), ('visiting', 1), ('finding', 1), ('searchers', 1), ('suspecting', 1), ('infectious', 1), ('pestilence', 1), ('doors', 2), ('brotherhood', 1), ('neglecting', 1), ('danger', 1), ('notice', 1), ('accidents', 1), ('aloof', 3), ('yew', 2), ('holding', 1), ('tread', 1), ('loose', 1), ('unfirm', 1), ('digging', 1), ('graves', 2), ('whistle', 1), ('signal', 1), ('afraid', 1), ('retires', 3), ('strew', 4), ('canopy', 1), ('dust', 1), ('distill', 1), ('moans', 1), ('obsequies', 2), ('whistles', 1), ('warning', 1), ('wanders', 1), ('muffle', 1), ('mattock', 3), ('wrenching', 1), ('whate', 1), ('seest', 1), ('interrupt', 1), ('partly', 1), ('chiefly', 1), ('employment', 1), ('jealous', 1), ('pry', 1), ('intend', 1), ('joint', 2), ('hungry', 1), ('intents', 4), ('savage-wild', 1), ('fierce', 1), ('inexorable', 1), ('tigers', 1), ('friendship', 1), ('hereabout', 1), ('maw', 1), ('gorg', 1), ('morsel', 1), ('enforce', 1), ('rotten', 1), ('jaws', 1), ('breaking', 1), ('despite', 1), ('cram', 1), ('haughty', 1), ('—with', 1), ('supposed', 1), ('creature', 1), ('died', 1), ('villainous', 1), ('bodies', 1), ('apprehend', 3), ('advances', 2), ('unhallow', 1), ('condemned', 2), ('tempt', 1), ('affright', 1), ('urging', 1), ('conjuration', 1), ('felon', 1), ('provoke', 1), ('peruse', 1), ('betossed', 1), ('rode', 1), ('triumphant', 1), ('lantern', 2), ('slaught', 1), ('red', 1), ('interr', 1), ('keepers', 1), ('conquer', 1), ('ensign', 1), ('crimson', 1), ('flag', 1), ('advanced', 1), ('liest', 1), ('sheet', 1), ('sunder', 1), ('unsubstantial', 1), ('lean', 1), ('abhorred', 1), ('monster', 1), ('paramour', 1), ('chambermaids', 1), ('yoke', 1), ('inauspicious', 1), ('world-wearied', 1), ('embrace', 1), ('righteous', 1), ('dateless', 1), ('bargain', 1), ('engrossing', 1), ('unsavoury', 1), ('guide', 1), ('dashing', 1), ('rocks', 1), ('sea-sick', 1), ('spade', 2), ('feet', 1), ('stumbled', 1), ('consorts', 1), ('vainly', 1), ('grubs', 1), ('eyeless', 1), ('discern', 1), ('burneth', 1), ('capels', 1), ('fearfully', 1), ('menace', 1), ('stains', 1), ('sepulchre', 2), ('masterless', 1), ('gory', 1), ('discolour', 1), ('steep', 1), ('unkind', 1), ('stirs', 2), ('comfortable', 1), ('contagion', 1), ('unnatural', 1), ('contradict', 1), ('thwarted', 1), ('dispose', 1), ('sisterhood', 1), ('nuns', 1), ('timeless', 1), ('churl', 1), ('friendly', 1), ('drop', 1), ('haply', 1), ('restorative', 1), ('snatching', 1), ('sheath', 1), ('stabs', 1), ('whoe', 1), ('attach', 1), ('bleeding', 1), ('whereon', 1), ('descry', 1), ('safety', 1), ('trembles', 1), ('suspicion', 2), ('shriek', 1), ('people', 1), ('outcry', 1), ('startles', 1), ('sovereign', 1), ('tombs', 1), ('bleeds', 1), ('mista', 1), ('mis-sheathed', 1), ('warns', 1), ('liege', 1), ('stopp', 1), ('conspires', 1), ('untaught', 1), ('clear', 1), ('ambiguities', 1), ('descent', 1), ('mischance', 1), ('parties', 1), ('greatest', 1), ('least', 1), ('suspected', 1), ('direful', 1), ('impeach', 1), ('purge', 1), ('excus', 1), ('betroth', 1), ('rid', 1), ('tutored', 1), ('sleeping', 1), ('potion', 2), ('intended', 1), ('dire', 1), ('force', 1), ('accident', 1), ('yesternight', 1), ('prefixed', 1), ('closely', 1), ('conveniently', 1), ('awaking', 1), ('entreated', 1), ('scare', 1), ('violence', 1), ('privy', 1), ('ought', 1), ('miscarried', 1), ('sacrific', 1), ('rigour', 1), ('severest', 1), ('brought', 1), ('departed', 1), ('rais', 1), ('writes', 1), ('pothecary', 1), ('therewithal', 1), ('scourge', 1), ('winking', 1), ('brace', 1), ('punish', 1), ('jointure', 1), ('demand', 1), ('statue', 1), ('whiles', 1), ('figure', 1), ('sacrifices', 1), ('glooming', 1), ('punished', 1)]\n"
     ]
    }
   ],
   "source": [
    "items = blob.word_counts.items()\n",
    "items = [item for item in items if item[0] not in stops]\n",
    "print(items)"
   ]
  },
  {
   "cell_type": "code",
   "execution_count": 77,
   "id": "a3157532-f886-4c74-beac-38ef94f11496",
   "metadata": {},
   "outputs": [],
   "source": [
    "import pandas as pd"
   ]
  },
  {
   "cell_type": "code",
   "execution_count": 83,
   "id": "1b870601-ebec-4747-96ec-ea1e1c5a90bc",
   "metadata": {},
   "outputs": [
    {
     "data": {
      "text/html": [
       "<div>\n",
       "<style scoped>\n",
       "    .dataframe tbody tr th:only-of-type {\n",
       "        vertical-align: middle;\n",
       "    }\n",
       "\n",
       "    .dataframe tbody tr th {\n",
       "        vertical-align: top;\n",
       "    }\n",
       "\n",
       "    .dataframe thead th {\n",
       "        text-align: right;\n",
       "    }\n",
       "</style>\n",
       "<table border=\"1\" class=\"dataframe\">\n",
       "  <thead>\n",
       "    <tr style=\"text-align: right;\">\n",
       "      <th></th>\n",
       "      <th>word</th>\n",
       "      <th>frequency</th>\n",
       "    </tr>\n",
       "  </thead>\n",
       "  <tbody>\n",
       "    <tr>\n",
       "      <th>16</th>\n",
       "      <td>’</td>\n",
       "      <td>867</td>\n",
       "    </tr>\n",
       "    <tr>\n",
       "      <th>1</th>\n",
       "      <td>romeo</td>\n",
       "      <td>315</td>\n",
       "    </tr>\n",
       "    <tr>\n",
       "      <th>170</th>\n",
       "      <td>thou</td>\n",
       "      <td>278</td>\n",
       "    </tr>\n",
       "    <tr>\n",
       "      <th>2</th>\n",
       "      <td>juliet</td>\n",
       "      <td>190</td>\n",
       "    </tr>\n",
       "    <tr>\n",
       "      <th>221</th>\n",
       "      <td>thy</td>\n",
       "      <td>170</td>\n",
       "    </tr>\n",
       "    <tr>\n",
       "      <th>...</th>\n",
       "      <td>...</td>\n",
       "      <td>...</td>\n",
       "    </tr>\n",
       "    <tr>\n",
       "      <th>1801</th>\n",
       "      <td>sucking</td>\n",
       "      <td>1</td>\n",
       "    </tr>\n",
       "    <tr>\n",
       "      <th>1800</th>\n",
       "      <td>divers</td>\n",
       "      <td>1</td>\n",
       "    </tr>\n",
       "    <tr>\n",
       "      <th>1798</th>\n",
       "      <td>burying</td>\n",
       "      <td>1</td>\n",
       "    </tr>\n",
       "    <tr>\n",
       "      <th>1795</th>\n",
       "      <td>precious-juiced</td>\n",
       "      <td>1</td>\n",
       "    </tr>\n",
       "    <tr>\n",
       "      <th>3522</th>\n",
       "      <td>punished</td>\n",
       "      <td>1</td>\n",
       "    </tr>\n",
       "  </tbody>\n",
       "</table>\n",
       "<p>3523 rows × 2 columns</p>\n",
       "</div>"
      ],
      "text/plain": [
       "                 word  frequency\n",
       "16                  ’        867\n",
       "1               romeo        315\n",
       "170              thou        278\n",
       "2              juliet        190\n",
       "221               thy        170\n",
       "...               ...        ...\n",
       "1801          sucking          1\n",
       "1800           divers          1\n",
       "1798          burying          1\n",
       "1795  precious-juiced          1\n",
       "3522         punished          1\n",
       "\n",
       "[3523 rows x 2 columns]"
      ]
     },
     "execution_count": 83,
     "metadata": {},
     "output_type": "execute_result"
    }
   ],
   "source": [
    "df = pd.DataFrame(items, columns=['word', 'frequency'])\n",
    "df.sort_values(by = 'frequency', ascending=False)"
   ]
  },
  {
   "cell_type": "code",
   "execution_count": 89,
   "id": "cd6f19cd-beb5-467f-8be6-c475e064aeec",
   "metadata": {},
   "outputs": [],
   "source": [
    "from operator import itemgetter"
   ]
  },
  {
   "cell_type": "code",
   "execution_count": 99,
   "id": "7500eb96-b3ea-41a9-abe1-16822aad1556",
   "metadata": {},
   "outputs": [
    {
     "name": "stdout",
     "output_type": "stream",
     "text": [
      "[('’', 867), ('romeo', 315), ('thou', 278), ('juliet', 190), ('thy', 170), ('capulet', 163), ('nurse', 149), ('love', 148), ('thee', 138), ('lady', 117), ('shall', 110), ('friar', 105), ('come', 94), ('mercutio', 88), ('lawrence', 82), ('good', 80), ('benvolio', 79), ('tybalt', 79), ('enter', 75), ('go', 75)]\n"
     ]
    }
   ],
   "source": [
    "sorted_items = sorted(items, key = itemgetter(1), reverse=True)\n",
    "print(sorted_items[0 : 20])"
   ]
  },
  {
   "cell_type": "code",
   "execution_count": 98,
   "id": "bdad20e1-bb41-4915-9bc1-0117eac3ad14",
   "metadata": {},
   "outputs": [
    {
     "name": "stdout",
     "output_type": "stream",
     "text": [
      "[('romeo', 315), ('thou', 278), ('juliet', 190), ('thy', 170), ('capulet', 163), ('nurse', 149), ('love', 148), ('thee', 138), ('lady', 117), ('shall', 110), ('friar', 105), ('come', 94), ('mercutio', 88), ('lawrence', 82), ('good', 80), ('benvolio', 79), ('tybalt', 79), ('enter', 75), ('go', 75), ('night', 73)]\n"
     ]
    }
   ],
   "source": [
    "top20 = sorted_items[1 : 21]\n",
    "print(top20)"
   ]
  },
  {
   "cell_type": "code",
   "execution_count": 107,
   "id": "0c4e22ee-0dd3-47b1-8db1-ddb71d9d5bdc",
   "metadata": {},
   "outputs": [
    {
     "data": {
      "text/html": [
       "<div>\n",
       "<style scoped>\n",
       "    .dataframe tbody tr th:only-of-type {\n",
       "        vertical-align: middle;\n",
       "    }\n",
       "\n",
       "    .dataframe tbody tr th {\n",
       "        vertical-align: top;\n",
       "    }\n",
       "\n",
       "    .dataframe thead th {\n",
       "        text-align: right;\n",
       "    }\n",
       "</style>\n",
       "<table border=\"1\" class=\"dataframe\">\n",
       "  <thead>\n",
       "    <tr style=\"text-align: right;\">\n",
       "      <th></th>\n",
       "      <th>word</th>\n",
       "      <th>frequency</th>\n",
       "    </tr>\n",
       "  </thead>\n",
       "  <tbody>\n",
       "    <tr>\n",
       "      <th>0</th>\n",
       "      <td>romeo</td>\n",
       "      <td>315</td>\n",
       "    </tr>\n",
       "    <tr>\n",
       "      <th>1</th>\n",
       "      <td>thou</td>\n",
       "      <td>278</td>\n",
       "    </tr>\n",
       "    <tr>\n",
       "      <th>2</th>\n",
       "      <td>juliet</td>\n",
       "      <td>190</td>\n",
       "    </tr>\n",
       "    <tr>\n",
       "      <th>3</th>\n",
       "      <td>thy</td>\n",
       "      <td>170</td>\n",
       "    </tr>\n",
       "    <tr>\n",
       "      <th>4</th>\n",
       "      <td>capulet</td>\n",
       "      <td>163</td>\n",
       "    </tr>\n",
       "    <tr>\n",
       "      <th>5</th>\n",
       "      <td>nurse</td>\n",
       "      <td>149</td>\n",
       "    </tr>\n",
       "    <tr>\n",
       "      <th>6</th>\n",
       "      <td>love</td>\n",
       "      <td>148</td>\n",
       "    </tr>\n",
       "    <tr>\n",
       "      <th>7</th>\n",
       "      <td>thee</td>\n",
       "      <td>138</td>\n",
       "    </tr>\n",
       "    <tr>\n",
       "      <th>8</th>\n",
       "      <td>lady</td>\n",
       "      <td>117</td>\n",
       "    </tr>\n",
       "    <tr>\n",
       "      <th>9</th>\n",
       "      <td>shall</td>\n",
       "      <td>110</td>\n",
       "    </tr>\n",
       "    <tr>\n",
       "      <th>10</th>\n",
       "      <td>friar</td>\n",
       "      <td>105</td>\n",
       "    </tr>\n",
       "    <tr>\n",
       "      <th>11</th>\n",
       "      <td>come</td>\n",
       "      <td>94</td>\n",
       "    </tr>\n",
       "    <tr>\n",
       "      <th>12</th>\n",
       "      <td>mercutio</td>\n",
       "      <td>88</td>\n",
       "    </tr>\n",
       "    <tr>\n",
       "      <th>13</th>\n",
       "      <td>lawrence</td>\n",
       "      <td>82</td>\n",
       "    </tr>\n",
       "    <tr>\n",
       "      <th>14</th>\n",
       "      <td>good</td>\n",
       "      <td>80</td>\n",
       "    </tr>\n",
       "    <tr>\n",
       "      <th>15</th>\n",
       "      <td>benvolio</td>\n",
       "      <td>79</td>\n",
       "    </tr>\n",
       "    <tr>\n",
       "      <th>16</th>\n",
       "      <td>tybalt</td>\n",
       "      <td>79</td>\n",
       "    </tr>\n",
       "    <tr>\n",
       "      <th>17</th>\n",
       "      <td>enter</td>\n",
       "      <td>75</td>\n",
       "    </tr>\n",
       "    <tr>\n",
       "      <th>18</th>\n",
       "      <td>go</td>\n",
       "      <td>75</td>\n",
       "    </tr>\n",
       "    <tr>\n",
       "      <th>19</th>\n",
       "      <td>night</td>\n",
       "      <td>73</td>\n",
       "    </tr>\n",
       "  </tbody>\n",
       "</table>\n",
       "</div>"
      ],
      "text/plain": [
       "        word  frequency\n",
       "0      romeo        315\n",
       "1       thou        278\n",
       "2     juliet        190\n",
       "3        thy        170\n",
       "4    capulet        163\n",
       "5      nurse        149\n",
       "6       love        148\n",
       "7       thee        138\n",
       "8       lady        117\n",
       "9      shall        110\n",
       "10     friar        105\n",
       "11      come         94\n",
       "12  mercutio         88\n",
       "13  lawrence         82\n",
       "14      good         80\n",
       "15  benvolio         79\n",
       "16    tybalt         79\n",
       "17     enter         75\n",
       "18        go         75\n",
       "19     night         73"
      ]
     },
     "execution_count": 107,
     "metadata": {},
     "output_type": "execute_result"
    }
   ],
   "source": [
    "df = pd.DataFrame(top20, columns = ['word', 'frequency'])\n",
    "df"
   ]
  },
  {
   "cell_type": "code",
   "execution_count": 106,
   "id": "aa19a292-1049-45f2-a463-fcde7d7ce87b",
   "metadata": {},
   "outputs": [
    {
     "data": {
      "text/plain": [
       "<Axes: xlabel='word'>"
      ]
     },
     "execution_count": 106,
     "metadata": {},
     "output_type": "execute_result"
    },
    {
     "data": {
      "image/png": "[encoded data removed]",
      "text/plain": [
       "<Figure size 640x480 with 1 Axes>"
      ]
     },
     "metadata": {},
     "output_type": "display_data"
    }
   ],
   "source": [
    "df.plot.bar(x='word', y='frequency', legend=False)"
   ]
  },
  {
   "cell_type": "code",
   "execution_count": 112,
   "id": "c17b96d2-77f4-4e48-856a-41ee8f924b46",
   "metadata": {},
   "outputs": [
    {
     "name": "stdout",
     "output_type": "stream",
     "text": [
      "Using matplotlib backend: QtAgg\n"
     ]
    }
   ],
   "source": [
    "%matplotlib\n",
    "import matplotlib.pyplot as plt"
   ]
  },
  {
   "cell_type": "code",
   "execution_count": 116,
   "id": "0955145e-c2a2-4fca-bec5-2a054c0ea1a2",
   "metadata": {},
   "outputs": [],
   "source": [
    "plt.show()"
   ]
  },
  {
   "cell_type": "code",
   "execution_count": 117,
   "id": "cdfcdacd-1ecf-49c1-a9dd-a10d62305448",
   "metadata": {},
   "outputs": [],
   "source": [
    "# Qualitative Analysis"
   ]
  },
  {
   "cell_type": "code",
   "execution_count": 118,
   "id": "c8501fae-6871-4d38-a852-8c0ce2ee9f52",
   "metadata": {},
   "outputs": [],
   "source": [
    "conda install -c conda-forge wordcloud"
   ]
  },
  {
   "cell_type": "code",
   "execution_count": 119,
   "id": "b101ae86-7b54-4af7-871b-d779ad2f6900",
   "metadata": {},
   "outputs": [],
   "source": [
    "import imageio"
   ]
  },
  {
   "cell_type": "code",
   "execution_count": 135,
   "id": "9a63737e-f335-43aa-b2d8-7975f3fc1cde",
   "metadata": {},
   "outputs": [],
   "source": [
    "mask_image = imageio.v2.imread('mask.png')"
   ]
  },
  {
   "cell_type": "code",
   "execution_count": 136,
   "id": "ae9bf358-dc16-4456-9a2e-9107929c48d4",
   "metadata": {},
   "outputs": [],
   "source": [
    "from wordcloud import WordCloud"
   ]
  },
  {
   "cell_type": "code",
   "execution_count": 139,
   "id": "ab4a1372-4b40-4df8-978f-9dcf703f3596",
   "metadata": {},
   "outputs": [],
   "source": [
    "wc = WordCloud(colormap = 'prism', mask = mask_image, background_color = 'white')\n",
    "wc = wc.generate(text)"
   ]
  },
  {
   "cell_type": "code",
   "execution_count": 140,
   "id": "af6ba94e-1d94-47d6-97e1-87ebe3ce8773",
   "metadata": {},
   "outputs": [
    {
     "data": {
      "text/plain": [
       "<wordcloud.wordcloud.WordCloud at 0x7f3088410190>"
      ]
     },
     "execution_count": 140,
     "metadata": {},
     "output_type": "execute_result"
    }
   ],
   "source": [
    "wc.to_file('word_frequency.png')"
   ]
  }
 ],
 "metadata": {
  "kernelspec": {
   "display_name": "Python 3 (ipykernel)",
   "language": "python",
   "name": "python3"
  },
  "language_info": {
   "codemirror_mode": {
    "name": "ipython",
    "version": 3
   },
   "file_extension": ".py",
   "mimetype": "text/x-python",
   "name": "python",
   "nbconvert_exporter": "python",
   "pygments_lexer": "ipython3",
   "version": "3.11.7"
  }
 },
 "nbformat": 4,
 "nbformat_minor": 5
}
