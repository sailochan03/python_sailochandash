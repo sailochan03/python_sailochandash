{
 "cells": [
  {
   "cell_type": "code",
   "execution_count": null,
   "metadata": {},
   "outputs": [],
   "source": [
    "import keys\n",
    "import requests\n",
    "\n",
    "def get_user_info(username):\n",
    "    url = f\"https://api.twitter.com/2/users/by/username/{username}?user.fields=id,name,username,public_metrics\"\n",
    "    headers = {\"Authorization\":f\"Bearer {keys.BEARER_TOKEN}\"}\n",
    "    response = requests.request(\"GET\", url, headers=headers)\n",
    "    print(f\"{response.text}\\n\")\n",
    "    if response.status_code == 200:\n",
    "        user_data = response.json()['data']\n",
    "        print(\"User ID: \", user_data['id'])\n",
    "        print(\"User Name: \", user_data['name'])\n",
    "        print(\"Screen Name: \", user_data['username'])\n",
    "        print(\"Followers Count: \", user_data['public_metrics']['followers_count'])\n",
    "    else:\n",
    "        print(\"ERROR: \", response.status_code, response.text)\n"
   ]
  },
  {
   "cell_type": "code",
   "execution_count": 9,
   "metadata": {},
   "outputs": [
    {
     "name": "stdout",
     "output_type": "stream",
     "text": [
      "{\"data\":{\"name\":\"Cristiano Ronaldo\",\"public_metrics\":{\"followers_count\":115138504,\"following_count\":73,\"tweet_count\":4256,\"listed_count\":84956,\"like_count\":52,\"media_count\":2333},\"id\":\"155659213\",\"username\":\"Cristiano\"}}\n",
      "\n",
      "User ID:  155659213\n",
      "User Name:  Cristiano Ronaldo\n",
      "Screen Name:  Cristiano\n",
      "Followers Count:  115138504\n"
     ]
    }
   ],
   "source": [
    "get_user_info('Cristiano')"
   ]
  }
 ],
 "metadata": {
  "kernelspec": {
   "display_name": "Python 3",
   "language": "python",
   "name": "python3"
  },
  "language_info": {
   "codemirror_mode": {
    "name": "ipython",
    "version": 3
   },
   "file_extension": ".py",
   "mimetype": "text/x-python",
   "name": "python",
   "nbconvert_exporter": "python",
   "pygments_lexer": "ipython3",
   "version": "3.8.10"
  }
 },
 "nbformat": 4,
 "nbformat_minor": 2
}
