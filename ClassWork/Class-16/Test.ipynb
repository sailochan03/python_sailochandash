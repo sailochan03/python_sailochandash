{
 "cells": [
  {
   "cell_type": "code",
   "execution_count": 1,
   "id": "578c0199-e012-4fa1-ba1d-2a1053b38c1f",
   "metadata": {},
   "outputs": [],
   "source": [
    "# Machine Learning"
   ]
  },
  {
   "cell_type": "code",
   "execution_count": 3,
   "id": "a4772287-41a9-4ef9-8ab5-60c4358edf58",
   "metadata": {},
   "outputs": [],
   "source": [
    "import math"
   ]
  },
  {
   "cell_type": "code",
   "execution_count": 19,
   "id": "8f33aea1-0b93-473f-981f-7e08bc543497",
   "metadata": {},
   "outputs": [],
   "source": [
    "def eucl(t1, t2):\n",
    "    l = [(a - b) ** 2 for a, b in zip(t1, t2)]\n",
    "    return math.sqrt(sum(l))"
   ]
  },
  {
   "cell_type": "code",
   "execution_count": 20,
   "id": "67ac2e70-918d-4603-a6c0-8095a67a56b3",
   "metadata": {},
   "outputs": [
    {
     "data": {
      "text/plain": [
       "3.1622776601683795"
      ]
     },
     "execution_count": 20,
     "metadata": {},
     "output_type": "execute_result"
    }
   ],
   "source": [
    "eucl((3, 4), (2, 1))"
   ]
  }
 ],
 "metadata": {
  "kernelspec": {
   "display_name": "Python 3",
   "language": "python",
   "name": "python3"
  },
  "language_info": {
   "codemirror_mode": {
    "name": "ipython",
    "version": 3
   },
   "file_extension": ".py",
   "mimetype": "text/x-python",
   "name": "python",
   "nbconvert_exporter": "python",
   "pygments_lexer": "ipython3",
   "version": "3.8.10"
  }
 },
 "nbformat": 4,
 "nbformat_minor": 5
}
