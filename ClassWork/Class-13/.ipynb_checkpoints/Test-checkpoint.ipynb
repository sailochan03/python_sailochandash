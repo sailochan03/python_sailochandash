{
 "cells": [
  {
   "cell_type": "code",
   "execution_count": 5,
   "id": "023c72a5-e9dc-415d-8253-4d487b8fa496",
   "metadata": {},
   "outputs": [],
   "source": [
    "# Natural Language Processing"
   ]
  },
  {
   "cell_type": "code",
   "execution_count": 6,
   "id": "c00249f5-6ae8-4b85-9e97-82fa2d794350",
   "metadata": {},
   "outputs": [
    {
     "name": "stdout",
     "output_type": "stream",
     "text": [
      "Defaulting to user installation because normal site-packages is not writeable\n",
      "Collecting textatistic\n",
      "  Downloading textatistic-0.0.1.tar.gz (29 kB)\n",
      "  Preparing metadata (setup.py) ... \u001b[?25ldone\n",
      "\u001b[?25hCollecting pyhyphen>=2.0.5 (from textatistic)\n",
      "  Downloading PyHyphen-4.0.4.tar.gz (40 kB)\n",
      "\u001b[2K     \u001b[90m━━━━━━━━━━━━━━━━━━━━━━━━━━━━━━━━━━━━━━━\u001b[0m \u001b[32m40.5/40.5 kB\u001b[0m \u001b[31m406.1 kB/s\u001b[0m eta \u001b[36m0:00:00\u001b[0ma \u001b[36m0:00:01\u001b[0m\n",
      "\u001b[?25h  Preparing metadata (setup.py) ... \u001b[?25ldone\n",
      "\u001b[?25hRequirement already satisfied: wheel>=0.40.0 in /home/iteradmin/anaconda3/lib/python3.11/site-packages (from pyhyphen>=2.0.5->textatistic) (0.41.2)\n",
      "Requirement already satisfied: setuptools>=68.0 in /home/iteradmin/anaconda3/lib/python3.11/site-packages (from pyhyphen>=2.0.5->textatistic) (68.2.2)\n",
      "Requirement already satisfied: appdirs>=1.4.0 in /home/iteradmin/anaconda3/lib/python3.11/site-packages (from pyhyphen>=2.0.5->textatistic) (1.4.4)\n",
      "Requirement already satisfied: requests>=2.25 in /home/iteradmin/anaconda3/lib/python3.11/site-packages (from pyhyphen>=2.0.5->textatistic) (2.31.0)\n",
      "Requirement already satisfied: charset-normalizer<4,>=2 in /home/iteradmin/anaconda3/lib/python3.11/site-packages (from requests>=2.25->pyhyphen>=2.0.5->textatistic) (2.0.4)\n",
      "Requirement already satisfied: idna<4,>=2.5 in /home/iteradmin/anaconda3/lib/python3.11/site-packages (from requests>=2.25->pyhyphen>=2.0.5->textatistic) (3.4)\n",
      "Requirement already satisfied: urllib3<3,>=1.21.1 in /home/iteradmin/anaconda3/lib/python3.11/site-packages (from requests>=2.25->pyhyphen>=2.0.5->textatistic) (2.0.7)\n",
      "Requirement already satisfied: certifi>=2017.4.17 in /home/iteradmin/anaconda3/lib/python3.11/site-packages (from requests>=2.25->pyhyphen>=2.0.5->textatistic) (2024.2.2)\n",
      "Building wheels for collected packages: textatistic, pyhyphen\n",
      "  Building wheel for textatistic (setup.py) ... \u001b[?25ldone\n",
      "\u001b[?25h  Created wheel for textatistic: filename=textatistic-0.0.1-py3-none-any.whl size=29047 sha256=f59fa7269da8fb2d50df6f59d7b1a56cedca6dfea4a2e5774ae71d787be798bc\n",
      "  Stored in directory: /home/student/.cache/pip/wheels/ec/03/0a/d09aa1c311450d9618131b77a6ea42990542380098022b77ba\n",
      "  Building wheel for pyhyphen (setup.py) ... \u001b[?25ldone\n",
      "\u001b[?25h  Created wheel for pyhyphen: filename=PyHyphen-4.0.4-cp37-abi3-linux_x86_64.whl size=38183 sha256=c69a6ca794ca3e15a90bee7e16261bc34ad33d056f23d1c749e49d59373e2dda\n",
      "  Stored in directory: /home/student/.cache/pip/wheels/4c/ce/e4/6604d8a83dcfdfa6766ce9423ac3d25e392ac645b5c4b5312e\n",
      "Successfully built textatistic pyhyphen\n",
      "Installing collected packages: pyhyphen, textatistic\n",
      "Successfully installed pyhyphen-4.0.4 textatistic-0.0.1\n",
      "Note: you may need to restart the kernel to use updated packages.\n"
     ]
    }
   ],
   "source": [
    "pip install textatistic"
   ]
  },
  {
   "cell_type": "code",
   "execution_count": 7,
   "id": "3475ec98-ffcc-4b50-aedb-400deb61103a",
   "metadata": {},
   "outputs": [],
   "source": [
    "from pathlib import Path\n",
    "from textatistic import Textatistic"
   ]
  },
  {
   "cell_type": "code",
   "execution_count": 8,
   "id": "4be60e4f-b8c5-40c5-9a35-f534cf5d3344",
   "metadata": {},
   "outputs": [],
   "source": [
    "text = Path('RomeoAndJuliet.txt').read_text(encoding='utf-8')"
   ]
  },
  {
   "cell_type": "code",
   "execution_count": 10,
   "id": "6b0f955c-5a3c-4af2-8b30-69b8ad13838d",
   "metadata": {},
   "outputs": [],
   "source": [
    "t = Textatistic(text)"
   ]
  },
  {
   "cell_type": "code",
   "execution_count": 12,
   "id": "6a9fffe5-4b08-4241-af63-fb287f00410b",
   "metadata": {},
   "outputs": [
    {
     "data": {
      "text/plain": [
       "{'char_count': 115147,\n",
       " 'word_count': 26122,\n",
       " 'sent_count': 3217,\n",
       " 'sybl_count': 30681,\n",
       " 'notdalechall_count': 5823,\n",
       " 'polysyblword_count': 694,\n",
       " 'flesch_score': 99.22820994072029,\n",
       " 'fleschkincaid_score': 1.436216328313071,\n",
       " 'gunningfog_score': 4.310700791677473,\n",
       " 'smog_score': 5.782478101534852,\n",
       " 'dalechall_score': 7.559087919529311}"
      ]
     },
     "execution_count": 12,
     "metadata": {},
     "output_type": "execute_result"
    }
   ],
   "source": [
    "t.dict()"
   ]
  },
  {
   "cell_type": "code",
   "execution_count": null,
   "id": "f3fc96b3-c3d4-45cb-ba5d-4fed253f0ab4",
   "metadata": {},
   "outputs": [],
   "source": [
    "!pip install spacy\n",
    "python -m spacy download en_core_web_sm"
   ]
  },
  {
   "cell_type": "code",
   "execution_count": 26,
   "id": "eef3b051-9463-4aa0-98c8-71212710be82",
   "metadata": {},
   "outputs": [],
   "source": [
    "import spacy"
   ]
  },
  {
   "cell_type": "code",
   "execution_count": 38,
   "id": "fbb1cd74-d0cc-46cc-a5de-8c3901437aa5",
   "metadata": {},
   "outputs": [],
   "source": [
    "nlp = spacy.load('en_core_web_sm')\n",
    "dc = nlp('''In 1994, Tim Berners - Lee founded the World Wide Web Consortium (W3C) in America, devoted to developing web technologies''')"
   ]
  },
  {
   "cell_type": "code",
   "execution_count": 39,
   "id": "049cbfc7-bdc6-44fc-8327-535cbb60f2c8",
   "metadata": {},
   "outputs": [
    {
     "name": "stdout",
     "output_type": "stream",
     "text": [
      "1994: DATE\n",
      "Tim Berners - Lee: PERSON\n",
      "the World Wide Web Consortium: EVENT\n",
      "America: GPE\n"
     ]
    }
   ],
   "source": [
    "for entity in dc.ents:\n",
    "    print(f'{entity.text}: {entity.label_}')"
   ]
  },
  {
   "cell_type": "code",
   "execution_count": 42,
   "id": "c7b5146b-7b69-455a-8930-b70f65da84df",
   "metadata": {},
   "outputs": [
    {
     "name": "stdout",
     "output_type": "stream",
     "text": [
      "William Shakespeare: PERSON, Scene I.: PERSON, Capulet’s House: ORG, Scene V. A: PERSON, II: CARDINAL, Scene I.: PERSON, Capulet’s Garden: FAC, Capulet’s Garden: PERSON, Lawrence’s Cell: PERSON, Scene V. Capulet’s Garden: PERSON, Lawrence’s Cell: PERSON, Scene V. An: PERSON, Juliet’s Chamber: PERSON, Capulet’s House: ORG, Juliet’s Chamber: PERSON, Capulet’s House: ORG, Scene V. Juliet’s Chamber: PERSON, Juliet: PERSON, Scene I. Mantua: PERSON, Lawrence’s Cell: PERSON, Capulets: ORG, Dramatis Personæ\n",
      "\n",
      ": PERSON, ESCALUS: ORG, Verona: GPE, MERCUTIO: PERSON, kinsman: PERSON, Romeo: ORG, PARIS: GPE, Nobleman: PERSON, kinsman: PERSON, Paris: GPE, MONTAGUE: PERSON, Veronese: NORP, Capulets: ORG, LADY MONTAGUE: PERSON, Montague: PERSON, Montague: PERSON, BENVOLIO: PERSON, Montague: PERSON, Romeo: ORG, ABRAM: EVENT, Montague: PERSON, Romeo: NORP, Veronese: NORP, Montagues: LOC, Capulet: PERSON, Capulet: ORG, Lady Capulet: PERSON, NURSE: GPE, Juliet: PERSON, PETER: PERSON, Juliet’s Nurse: PERSON, Capulet: ORG, Capulet: ORG, Franciscan: NORP, Order: PERSON, Apothecary: PRODUCT, CHORUS: ORG, Three: CARDINAL, Citizens of Verona: PERSON, Men and Women: ORG, Maskers, Guards: ORG, Watchmen and Attendants: ORG, Verona: GPE, Mantua: GPE, CHORUS: ORG, Two: CARDINAL, Verona: PERSON, two: CARDINAL, Doth: ORG, the two hours: TIME, Exit: PERSON, Enter Sampson: PERSON, Gregory: ORG, Gregory: ORG, Montague: PERSON, Montague’s: PERSON, Montague: PERSON, thou: GPE, thou: GPE, John: PERSON, Montagues: GPE, Balthasar: GPE, Nay: PERSON, ABRAM: GPE, Benvolio: PERSON, Benvolio: PERSON, BENVOLIO: PERSON, Montagues: PERSON, three: CARDINAL, four: CARDINAL, Citizens: ORG, Montagues: PERSON, Lady Capulet: PERSON, ho: PERSON, Old Montague: PERSON, Enter Montague: PERSON, Lady Montague: PERSON, MONTAGUE: PERSON, Thou: PERSON, Thou: PERSON, Prince Escalus: PERSON, PRINCE: PERSON, ho: PERSON, Three: CARDINAL, Capulet: ORG, Montague: PERSON, Verona: PERSON, Cast: PERSON, Capulet: PERSON, Montague: PERSON, this afternoon: TIME, Capulet: PERSON, Lady Capulet: PERSON, Speak: GPE, BENVOLIO: PERSON, The fiery Tybalt: WORK_OF_ART, Romeo: PRODUCT, today: DATE, BENVOLIO: PERSON, Madam: PERSON, MONTAGUE: PERSON, Aurora: PERSON, BENVOLIO: PERSON, MONTAGUE: PERSON, BENVOLIO: PERSON, MONTAGUE: PERSON, Romeo: PERSON, BENVOLIO: PERSON, MONTAGUE: PERSON, Exeunt Montague: ORG, Lady Montague: PERSON, the day: DATE, BENVOLIO: PERSON, nine: CARDINAL, BENVOLIO: PERSON, Romeo: ORG, hours: TIME, BENVOLIO: PERSON, BENVOLIO: PERSON, BENVOLIO: PERSON, first: ORDINAL, BENVOLIO: PERSON, BENVOLIO: PERSON, Griefs: PERSON, thou: GPE, Doth: ORG, Love: WORK_OF_ART, Farewell: PERSON, Romeo: PRODUCT, BENVOLIO: PERSON, BENVOLIO: PERSON, Groan: PERSON, BENVOLIO: PERSON, BENVOLIO: PERSON, Cupid: ORG, Dian: NORP, arm’d: PERSON, BENVOLIO: PERSON, BENVOLIO: PERSON, Be rul’d: PERSON, BENVOLIO: PERSON, Farewell: PERSON, thou: GPE, BENVOLIO: PERSON, Enter Capulet: PERSON, Paris: GPE, Servant: ORG, Montague: PERSON, PARIS: GPE, fourteen years: DATE, two: CARDINAL, PARIS: GPE, Paris: GPE, This night: TIME, One: CARDINAL, this night: TIME, Earth: LOC, April: DATE, winter: DATE, this night: TIME, Inherit: PERSON, May: DATE, Verona: PERSON, Paris: GPE, Benvolio: PERSON, Romeo: PRODUCT, BENVOLIO: PERSON, one: CARDINAL, One: CARDINAL, One: CARDINAL, BENVOLIO: PERSON, BENVOLIO: PERSON, Romeo: PERSON, Whipp’d: PERSON, SERVANT: ORG, SERVANT: ORG, SERVANT: ORG, Ye: PERSON, County Anselmo: ORG, Utruvio: GPE, Mercutio: PERSON, Valentine: PERSON, Rosaline: ORG, Livia: PERSON, Signior Valentio: PERSON, Lucio: PERSON, Helena: ORG, SERVANT: ORG, SERVANT: ORG, SERVANT: ORG, SERVANT: ORG, Capulet: ORG, Montagues: GPE, Exit: PERSON, Capulet’s\n",
      "Sups: ORG, Rosaline: ORG, Verona: GPE, One: CARDINAL, first: ORDINAL, BENVOLIO: PERSON, Herself pois’d: LOC, Capulet’s House: ORG, Lady Capulet: PERSON, Nurse: GPE, Nurse: GPE, NURSE: GPE, twelve year old: DATE, Juliet: PERSON, Juliet: PERSON, JULIET: PERSON, NURSE: GPE, JULIET: PERSON, Madam: PERSON, thou: GPE, Thou: GPE, NURSE: GPE, Faith: PERSON, an hour: TIME, fourteen: DATE, NURSE: GPE, fourteen: CARDINAL, four: CARDINAL, fourteen: DATE, Lammas: PERSON, odd days: DATE, NURSE: GPE, all days: DATE, the year: DATE, Come Lammas Eve: PERSON, fourteen: DATE, Susan: PERSON, Christian: NORP, Susan: PERSON, Lammas Eve: PERSON, fourteen: DATE, eleven years: DATE, all the days of the year: DATE, Nay: PERSON, eleven years: DATE, thou fall: DATE, Thou: GPE, Jule: PERSON, a thousand years: DATE, Jule: PERSON, NURSE: GPE, fall’st: PERSON, Thou: GPE, Jule: PERSON, JULIET: PERSON, Nurse: GPE, I.\n",
      "\n",
      "NURSE: ORG, Thou: PERSON, Marry: PERSON, Juliet: PERSON, JULIET: PERSON, NURSE: GPE, thou: GPE, Verona: GPE, Paris: GPE, NURSE: GPE, Lady: PERSON, Verona’s: PERSON, summer: DATE, NURSE: GPE, Nay: PERSON, This night: TIME, Paris: GPE, NURSE: GPE, Paris: GPE, JULIET: PERSON, SERVANT: ORG, Madam: PERSON, Nurse: GPE, Exit Servant: PERSON, the County: GPE, NURSE: GPE, nights to happy days: DATE, Romeo: PERSON, Mercutio: PERSON, Benvolio: PERSON, five: CARDINAL, six: CARDINAL, BENVOLIO: PERSON, Cupid: ORG, Tartar: ORG, MERCUTIO: PERSON, Nay: PERSON, Romeo: ORG, MERCUTIO: PERSON, Cupid: ORG, MERCUTIO: PERSON, MERCUTIO: PERSON, Prick: ORG, BENVOLIO: PERSON, MERCUTIO: PERSON, dun: PERSON, ho.\n",
      "\n",
      "ROMEO: PERSON, Nay: PERSON, MERCUTIO: PERSON, Five: CARDINAL, five: CARDINAL, MERCUTIO: PERSON, tonight: TIME, MERCUTIO: PERSON, I.\n",
      "\n",
      "ROMEO: ORG, MERCUTIO: PERSON, MERCUTIO: PERSON, Queen Mab: PERSON, Drawn: PERSON, half: CARDINAL, night: TIME, night: TIME, Mab: PERSON, driveth: PERSON, Spanish: NORP, five: CARDINAL, two: CARDINAL, Mab: PERSON, the night: TIME, first: ORDINAL, Mercutio: PERSON, Thou: PERSON, MERCUTIO: PERSON, BENVOLIO: PERSON, Shall: PERSON, this night: TIME, BENVOLIO: PERSON, Enter Servants: ORG, Where’s Potpan: PERSON, one: CARDINAL, two: CARDINAL, Susan Grindstone: PERSON, Nell: ORG, Antony: ORG, Potpan: GPE, Maskers: NORP, Nay: PERSON, Capulet: ORG, thirty years: DATE, Lucentio: ORG, Come Pentecost: PERSON, Some five and twenty years: CARDINAL, thirty: CARDINAL, two years ago: DATE, SERVANT: ORG, this night: TIME, Montague: PERSON, kinsman: PERSON, Uncle: PERSON, Montague: PERSON, this night: TIME, Romeo: NORP, Verona: PERSON, goodman: ORG, Marry: PERSON, light!—For: PERSON, Exit: PERSON, Juliet: PERSON, two: CARDINAL, JULIET: PERSON, JULIET: PERSON, pilgrim: ORG, JULIET: PERSON, Kissing: PERSON, Sin: PERSON, JULIET: PERSON, NURSE: GPE, Madam: PERSON, NURSE: GPE, Marry: PERSON, talk’d: PERSON, Shall: PERSON, BENVOLIO: PERSON, Away: PERSON, Nay: PERSON, Juliet: PERSON, Nurse: GPE, Nurse: GPE, NURSE: GPE, Tiberio: GPE, JULIET: PERSON, NURSE: GPE, Marry: PERSON, Petruchio: GPE, JULIET: PERSON, NURSE: GPE, JULIET: PERSON, NURSE: GPE, Romeo: ORG, Montague: PERSON, JULIET: PERSON, NURSE: GPE, JULIET: PERSON, danc’d: ORDINAL, One: CARDINAL, Juliet: PERSON, NURSE: GPE, Anon: LOC, II: CARDINAL, CHORUS: ORG, Juliet: PERSON, Romeo: PERSON, Alike: ORG, Exit: PERSON, Capulet’s Garden: FAC, Romeo: PERSON, Benvolio: PERSON, Mercutio: PERSON, BENVOLIO: PERSON, Romeo: NORP, MERCUTIO: PERSON, BENVOLIO: PERSON, Mercutio: PERSON, MERCUTIO: PERSON, Nay: PERSON, Lover: PERSON, Appear: PERSON, Speak: GPE, one: CARDINAL, Love: WORK_OF_ART, Speak: GPE, Venus: PERSON, one: CARDINAL, One: CARDINAL, Abraham Cupid: PERSON, heareth: PERSON, moveth: PERSON, Rosaline: ORG, BENVOLIO: PERSON, thou: GPE, MERCUTIO: PERSON, BENVOLIO: PERSON, the humorous night: TIME, Blind: PERSON, MERCUTIO: PERSON, Romeo: PRODUCT, BENVOLIO: PERSON, Capulet’s Garden: PERSON, Romeo: PERSON, Juliet: PERSON, Juliet: PERSON, Arise: PERSON, Two: CARDINAL, JULIET: PERSON, this night: TIME, JULIET: PERSON, Romeo: PRODUCT, Romeo: GPE, Capulet: PRODUCT, Shall: PERSON, JULIET: PERSON, Thou: GPE, Montague: PERSON, ’s Montague: PERSON, Romeo: ORG, Romeo: NORP, Romeo: PRODUCT, JULIET: PERSON, night: TIME, JULIET: PERSON, a hundred: CARDINAL, Montague: PERSON, JULIET: PERSON, JULIET: PERSON, Alack: PERSON, JULIET: PERSON, JULIET: PERSON, first: ORDINAL, JULIET: PERSON, Thou: GPE, thou: GPE, tonight: TIME, Ay: PERSON, Thou: GPE, Jove: PERSON, Romeo: PRODUCT, Montague: PERSON, Lady: PERSON, moon: PERSON, JULIET: PERSON, monthly: DATE, JULIET: PERSON, JULIET: PERSON, tonight: TIME, Sweet: PERSON, summer: DATE, May: DATE, JULIET: PERSON, thou: GPE, tonight: TIME, JULIET: PERSON, thou: GPE, JULIET: PERSON, Anon: LOC, Nurse!—Sweet Montague: PERSON, Exit: PERSON, night: TIME, night: TIME, Juliet: PERSON, JULIET: PERSON, Three: CARDINAL, Romeo: NORP, tomorrow: DATE, NURSE: GPE, Madam: PERSON, JULIET: PERSON, NURSE: GPE, Madam: PERSON, JULIET: PERSON, Tomorrow: DATE, JULIET: PERSON, thousand: CARDINAL, Exit: PERSON, thousand: CARDINAL, Juliet: PERSON, JULIET: PERSON, Romeo: PERSON, Bondage: ORG, Echo: LOC, Romeo: PRODUCT, night: TIME, JULIET: PERSON, JULIET: PERSON, tomorrow: DATE, Shall: PERSON, the hour: TIME, nine: CARDINAL, JULIET: PERSON, twenty years: DATE, JULIET: PERSON, JULIET: PERSON, almost morning: TIME, JULIET: PERSON, Sweet: PERSON, morrow: DATE, Exit: PERSON, Exit: PERSON, Lawrence’s Cell: PERSON, Friar Lawrence: PERSON, the frowning night: TIME, Titan: GPE, The day: DATE, Romeo: PERSON, Poison: ORG, Two: CARDINAL, morrow: DATE, morrow: DATE, Doth: ORG, Thou: GPE, tonight: TIME, Rosaline: ORG, Rosaline: ORG, one: CARDINAL, Capulet: PERSON, thou: GPE, woo’d: PRODUCT, today: DATE, Holy Saint Francis: PERSON, Jesu Maria: PERSON, Hath: PERSON, Rosaline: ORG, Lo: PERSON, Thou: PERSON, Rosaline: ORG, Thou: PERSON, Rosaline: ORG, Doth: ORG, one: CARDINAL, Benvolio: PERSON, Mercutio: PERSON, MERCUTIO: PERSON, Romeo: PRODUCT, tonight: TIME, BENVOLIO: PERSON, MERCUTIO: PERSON, Rosaline: ORG, BENVOLIO: PERSON, Capulet: ORG, MERCUTIO: PERSON, BENVOLIO: PERSON, Romeo: PRODUCT, MERCUTIO: PERSON, BENVOLIO: PERSON, Nay: PERSON, MERCUTIO: PERSON, Romeo: PERSON, BENVOLIO: PERSON, Tybalt: PERSON, MERCUTIO: PERSON, one: CARDINAL, two: CARDINAL, third: ORDINAL, first: ORDINAL, second: ORDINAL, BENVOLIO: PERSON, MERCUTIO: PERSON, Jesu: PERSON, BENVOLIO: PERSON, Romeo: GPE, Romeo: NORP, MERCUTIO: PERSON, Petrarch: PERSON, Laura: PERSON, Cleopatra: PERSON, Helen: PERSON, French: NORP, French: NORP, MERCUTIO: PERSON, Pardon: GPE, Mercutio: PERSON, MERCUTIO: PERSON, MERCUTIO: PERSON, Thou: GPE, MERCUTIO: PERSON, Nay: PERSON, MERCUTIO: PERSON, MERCUTIO: PERSON, MERCUTIO: PERSON, Benvolio: PERSON, MERCUTIO: PERSON, Nay: PERSON, one: CARDINAL, Thou: GPE, thou: GPE, MERCUTIO: PERSON, Nay: PERSON, MERCUTIO: PERSON, MERCUTIO: PERSON, MERCUTIO: PERSON, thou: GPE, BENVOLIO: PERSON, MERCUTIO: PERSON, Thou: PERSON, BENVOLIO: PERSON, Thou: GPE, MERCUTIO: PERSON, Enter Nurse: PERSON, Peter: PERSON, MERCUTIO: PERSON, Two: CARDINAL, two: CARDINAL, NURSE: GPE, Peter: PERSON, PETER: PERSON, Anon: LOC, NURSE: GPE, Peter: PERSON, MERCUTIO: PERSON, Good Peter: PERSON, NURSE: GPE, MERCUTIO: PERSON, NURSE: GPE, MERCUTIO: PERSON, noon: TIME, NURSE: GPE, One: CARDINAL, NURSE: GPE, mar: PERSON, Romeo: LOC, Romeo: PERSON, NURSE: GPE, MERCUTIO: PERSON, Yea: PERSON, NURSE: GPE, BENVOLIO: PERSON, MERCUTIO: PERSON, MERCUTIO: PERSON, Sings: PERSON, Lent: GPE, Romeo: PRODUCT, MERCUTIO: PERSON, Farewell: PERSON, Benvolio: PERSON, NURSE: ORG, Nurse: GPE, a minute: TIME, a month: DATE, NURSE: GPE, twenty: CARDINAL, Jacks: PERSON, PETER: PERSON, NURSE: GPE, first: ORDINAL, NURSE: GPE, Nurse: GPE, NURSE: GPE, this afternoon: TIME, NURSE: GPE, a penny: MONEY, NURSE: GPE, This afternoon: TIME, Nurse: GPE, this hour: TIME, Farewell: PERSON, Farewell: PERSON, NURSE: GPE, Nurse: GPE, NURSE: GPE, Two: CARDINAL, NURSE: GPE, Paris: GPE, Paris: GPE, Doth: ORG, Romeo: PRODUCT, Nurse: GPE, R.: NORP, NURSE: GPE, a thousand: CARDINAL, Peter: PERSON, Exit Romeo: FAC, PETER: PERSON, Anon: LOC, NURSE: GPE, Juliet: PERSON, JULIET: PERSON, nine: CARDINAL, Nurse: GPE, half an hour: TIME, Love: WORK_OF_ART, ten: CARDINAL, Cupid: ORG, this day: DATE, three long hours: TIME, Peter: PERSON, NURSE: GPE, Peter: PERSON, Exit Peter: PERSON, thou: GPE, NURSE: GPE, JULIET: PERSON, Nurse: GPE, NURSE: GPE, Jesu: PERSON, JULIET: PERSON, thou: GPE, is’t: GPE, NURSE: GPE, JULIET: PERSON, NURSE: GPE, twenty: CARDINAL, JULIET: PERSON, thou: GPE, Sweet: PERSON, Nurse: GPE, NURSE: GPE, JULIET: PERSON, NURSE: GPE, Marry: PERSON, Henceforward: ORG, JULIET: PERSON, Romeo: PERSON, NURSE: GPE, today: DATE, JULIET: PERSON, NURSE: GPE, night: TIME, JULIET: PERSON, Honest Nurse: PERSON, Lawrence’s Cell: PERSON, Friar Lawrence: PERSON, Romeo: PRODUCT, one: CARDINAL, Juliet: PERSON, summer: DATE, JULIET: PERSON, Romeo: PRODUCT, JULIET: PERSON, Juliet: PERSON, JULIET: PERSON, Conceit: PERSON, half: CARDINAL, two: CARDINAL, Enter Mercutio: PERSON, Benvolio: PERSON, Page and Servants: ORG, BENVOLIO: PERSON, Mercutio: PERSON, The day: DATE, Capulets: ORG, MERCUTIO: PERSON, Thou: GPE, God: PERSON, second: ORDINAL, BENVOLIO: PERSON, MERCUTIO: PERSON, Jack: PERSON, Italy: GPE, BENVOLIO: PERSON, MERCUTIO: PERSON, Nay: PERSON, two: CARDINAL, Thou: GPE, Easter: LOC, BENVOLIO: PERSON, thou: GPE, an hour and a quarter: TIME, MERCUTIO: PERSON, BENVOLIO: PERSON, Capulets: ORG, MERCUTIO: PERSON, MERCUTIO: PERSON, one: CARDINAL, one: CARDINAL, MERCUTIO: PERSON, Mercutio: PERSON, thou: GPE, Romeo: ORG, MERCUTIO: PERSON, BENVOLIO: PERSON, MERCUTIO: PERSON, I.\n",
      "\n",
      " Enter Romeo: ORG, MERCUTIO: PERSON, Marry: PERSON, Doth: ORG, Capulet: PERSON, MERCUTIO: PERSON, MERCUTIO: PERSON, Good King of Cats: PERSON, one: CARDINAL, nine: CARDINAL, eight: CARDINAL, Gentle Mercutio: PERSON, MERCUTIO: PERSON, Benvolio: PERSON, Mercutio: PERSON, Verona: GPE, Good Mercutio: PERSON, Partizans: NORP, BENVOLIO: PERSON, thou: GPE, MERCUTIO: PERSON, Marry: PERSON, Exit Page: PERSON, MERCUTIO: PERSON, tomorrow: DATE, MERCUTIO: PERSON, Benvolio: PERSON, Benvolio: PERSON, Hath: PERSON, Juliet: PERSON, Benvolio: PERSON, BENVOLIO: PERSON, Romeo: PRODUCT, Romeo: PRODUCT, Mercutio: PERSON, earth: LOC, mo days: DATE, BENVOLIO: PERSON, Tybalt: NORP, Mercutio: PERSON, Mercutio: PERSON, Thou: PERSON, Shalt: PERSON, Romeo: PRODUCT, BENVOLIO: PERSON, Exit Romeo: FAC, Mercutio: PERSON, BENVOLIO: PERSON, Tybalt: PERSON, Prince’s: ORG, Montague: PERSON, Capulet: PERSON, Wives: ORG, PRINCE: PERSON, BENVOLIO: PERSON, Romeo: PERSON, Mercutio: PERSON, Montague: GPE, PRINCE: PERSON, Benvolio: PERSON, BENVOLIO: PERSON, Romeo: ORG, Romeo: PRODUCT, Mercutio: PERSON, Cold: EVENT, Retorts: GPE, Mercutio: PERSON, Romeo: PRODUCT, Romeo: PRODUCT, Benvolio: PERSON, Montague: PERSON, Some twenty: CARDINAL, one: CARDINAL, thou: GPE, Romeo: NORP, PRINCE: PERSON, Romeo: NORP, Mercutio: PERSON, MONTAGUE: PERSON, Mercutio: PERSON, Tybalt: NORP, PRINCE: PERSON, Romeo: NORP, that hour: TIME, Juliet: PERSON, JULIET: PERSON, Gallop: PERSON, Phaeton: ORG, night: TIME, Romeo\n",
      "Leap: ORG, Thou: PERSON, Romeo: PRODUCT, thou day: DATE, thou: GPE, Romeo: PRODUCT, this day: DATE, Nurse: GPE, Romeo: ORG, Nurse: GPE, Romeo: PRODUCT, NURSE: GPE, NURSE: GPE, the day: DATE, JULIET: PERSON, NURSE: GPE, Romeo: PRODUCT, Romeo: ORG, Romeo: ORG, JULIET: PERSON, NURSE: GPE, Pale: ORG, JULIET: PERSON, Romeo: ORG, one: CARDINAL, NURSE: GPE, Tybalt, Tybalt: WORK_OF_ART, JULIET: PERSON, Romeo: PRODUCT, two: CARDINAL, NURSE: GPE, Romeo: NORP, JULIET: PERSON, Romeo: PRODUCT, Tybalt’s: PERSON, NURSE: GPE, the day: DATE, JULIET: PERSON, NURSE: GPE, Romeo: NORP, JULIET: PERSON, NURSE: GPE, JULIET: PERSON, three-hours: TIME, native spring: DATE, Tybalt: PERSON, Tybalt’s: ORG, Romeo: ORG, Hath: PERSON, ten thousand: CARDINAL, Tybalt’s: PERSON, Tybalt’s: ORG, Tybalt, Romeo: ORG, Juliet: PERSON, Romeo: ORG, Nurse: GPE, NURSE: GPE, Tybalt’s: WORK_OF_ART, JULIET: PERSON, Wash: PERSON, Romeo: ORG, beguil’d: GPE, Romeo: PRODUCT, Nurse: GPE, Romeo: PRODUCT, NURSE: GPE, Romeo: PRODUCT, Romeo: PRODUCT, night: TIME, Lawrence: PERSON, JULIET: PERSON, Friar Lawrence: PERSON, Romeo: PRODUCT, thou: GPE, Romeo: PERSON, Verona: GPE, Verona: PERSON, Thou: PERSON, brush’d: DATE, Juliet: NORP, little mouse: PERSON, Romeo: ORG, Romeo: ORG, Juliet’s: PERSON, Romeo: ORG, Thou: GPE, Juliet: PERSON, Thou: PERSON, Juliet: PERSON, An hour: TIME, Arise: PERSON, one: CARDINAL, heartsick groans: PERSON, Knocking: ORG, Thou: PERSON, Knocking: ORG, Knocking: ORG, NURSE: GPE, Lady Juliet: PERSON, NURSE: GPE, NURSE: GPE, Juliet: PERSON, Nurse: GPE, NURSE: GPE, Juliet: PERSON, Doth: ORG, NURSE: GPE, Romeo: NORP, Friar: PERSON, Doth: ORG, Unseemly: PERSON, Thou: GPE, three: CARDINAL, thou: NORP, Misshapen: GPE, Thy Juliet: PERSON, Thou: PERSON, Fortune: WORK_OF_ART, Mantua: ORG, Beg: PERSON, twenty hundred thousand: CARDINAL, Nurse: GPE, NURSE: GPE, NURSE: GPE, Exit: PERSON, Sojourn: PRODUCT, Mantua: GPE, Farewell: PERSON, Capulet: PERSON, Lady Capulet: PERSON, Paris: GPE, tonight: TIME, an hour ago: TIME, PARIS: GPE, Madam: PERSON, early tomorrow: DATE, Tonight: TIME, mew’d: CARDINAL, Paris: PERSON, Acquaint: PERSON, Paris: GPE, Wednesday: DATE, what day: DATE, PARIS: GPE, Monday: DATE, Monday: DATE, Wednesday: DATE, Thursday: DATE, Thursday: DATE, earl: PERSON, ado,—a: PERSON, two: CARDINAL, kinsman: PERSON, some half a dozen: CARDINAL, Thursday: DATE, PARIS: GPE, Thursday: DATE, tomorrow: DATE, Thursday: DATE, Juliet: PERSON, this wedding day: DATE, Farewell: PERSON, ho: PERSON, Juliet’s Chamber: PERSON, Garden: GPE, Romeo: PERSON, Juliet: PERSON, JULIET: PERSON, Nightly: GPE, yonder east: LOC, JULIET: PERSON, this night: TIME, Mantua: GPE, thou: GPE, yon grey: PERSON, morning: TIME, Cynthia’s: PERSON, Juliet: PERSON, is’t: GPE, JULIET: PERSON, the day: DATE, NURSE: GPE, Madam: PERSON, JULIET: PERSON, Nurse: GPE, NURSE: GPE, The day: DATE, Exit: PERSON, Farewell: PERSON, one: CARDINAL, Descends: PERSON, a minute: TIME, years: DATE, Romeo: PRODUCT, Farewell: PERSON, JULIET: PERSON, JULIET: PERSON, one: CARDINAL, Adieu: PERSON, Exit: PERSON, Fortune, Fortune!: WORK_OF_ART, Fortune: WORK_OF_ART, JULIET: PERSON, is’t: GPE, Lady Capulet: PERSON, Juliet: PERSON, JULIET: PERSON, Madam: PERSON, thou: GPE, JULIET: PERSON, JULIET: PERSON, JULIET: PERSON, Romeo: PRODUCT, JULIET: PERSON, Villain: PERSON, JULIET: PERSON, one: CARDINAL, Mantua: GPE, Shall: PERSON, JULIET: PERSON, Romeo: ORG, Madam: PERSON, Romeo: ORG, nam’d: PERSON, JULIET: PERSON, thou: GPE, Hath: PERSON, a sudden day: DATE, JULIET: PERSON, Madam: PERSON, Marry: PERSON, early next Thursday: DATE, The County Paris: GPE, Saint Peter’s Church: FAC, Shall: PERSON, JULIET: PERSON, Saint Peter’s Church: PERSON, Peter: PERSON, Romeo: PRODUCT, Paris: GPE, Capulet: PERSON, Nurse: GPE, one: CARDINAL, Thou: GPE, JULIET: PERSON, Proud: PERSON, Proud: PERSON, Thursday: DATE, Paris: GPE, Saint Peter’s Church: GPE, JULIET: PERSON, Thursday: DATE, NURSE: GPE, NURSE: GPE, NURSE: GPE, May: DATE, Stuff’d: PERSON, Graze: PERSON, Thursday: DATE, Exit: PERSON, Delay: PERSON, a month,: DATE, a week: DATE, Exit: PERSON, Nurse: GPE, NURSE: GPE, Faith: PERSON, Romeo: ORG, Hath: PERSON, Paris: GPE, second: ORDINAL, first: ORDINAL, first: ORDINAL, JULIET: PERSON, NURSE: GPE, JULIET: PERSON, NURSE: GPE, JULIET: PERSON, Lawrence: PERSON, NURSE: GPE, Marry: PERSON, Exit: PERSON, Ancient: ORG, So many thousand: CARDINAL, Thou: PERSON, Exit: PERSON, Friar Lawrence: PERSON, Paris: GPE, Thursday: DATE, PARIS: GPE, Capulet: PERSON, PARIS: GPE, Venus: PERSON, Juliet: PERSON, PARIS: GPE, JULIET: PERSON, PARIS: GPE, Thursday: DATE, JULIET: PERSON, PARIS: GPE, JULIET: PERSON, PARIS: GPE, JULIET: PERSON, PARIS: GPE, JULIET: PERSON, PARIS: GPE, JULIET: PERSON, PARIS: GPE, Thou: PERSON, JULIET: PERSON, PARIS: GPE, thou: NORP, JULIET: PERSON, evening: TIME, PARIS: GPE, Juliet: PERSON, Thursday: DATE, Exit: PERSON, Juliet: PERSON, Thursday: DATE, JULIET: PERSON, Friar: PERSON, thou: GPE, Romeo’s: PERSON, Romeo: ORG, Shall: PERSON, Shall: PERSON, County Paris: GPE, Thou: GPE, JULIET: PERSON, Paris: GPE, thievish: CARDINAL, Paris: GPE, Wednesday: DATE, tomorrow: DATE, Tomorrow night: TIME, thou: GPE, Nurse: GPE, Shall: PERSON, the day: DATE, Shall: PERSON, Thou: PERSON, two and forty hours: TIME, the morning: TIME, Thou: GPE, thou: GPE, Shall Romeo: ORG, Shall Romeo: ORG, Mantua: GPE, Abate: ORG, JULIET: PERSON, JULIET: PERSON, Farewell: PERSON, Capulet’s House: ORG, Capulet: PERSON, Lady Capulet: PERSON, Exit first Servant: FAC, twenty: CARDINAL, Marry: PERSON, Exit second Servant: FAC, Friar Lawrence: PERSON, NURSE: GPE, Juliet: PERSON, NURSE: GPE, JULIET: PERSON, Lawrence: PERSON, Henceforward: PERSON, rul’d: PERSON, tomorrow morning: TIME, JULIET: PERSON, Lawrence: PERSON, JULIET: PERSON, tomorrow: DATE, Thursday: DATE, Nurse: GPE, tomorrow: DATE, Nurse: GPE, night: TIME, Tush: PERSON, Juliet: PERSON, tonight: TIME, ho: PERSON, County Paris: GPE, tomorrow: DATE, Juliet’s Chamber: PERSON, Juliet: PERSON, Nurse: GPE, JULIET: PERSON, Nurse: GPE, tonight: TIME, Lady Capulet: PERSON, ho: PERSON, JULIET: PERSON, tomorrow: DATE, this night: TIME, Lady Capulet: PERSON, Nurse: GPE, Farewell: PERSON, Shall: PERSON, tomorrow: DATE, Romeo: NORP, Romeo: PRODUCT, Shall: PERSON, Romeo: PRODUCT, this many hundred years: DATE, some hours: TIME, Alack: PERSON, Tybalt: PERSON, Romeo: NORP, Romeo: GPE, Romeo: GPE, Capulet’s House: ORG, Lady Capulet: PERSON, Nurse: GPE, Nurse: GPE, NURSE: GPE, second: ORDINAL, Angelica: GPE, NURSE: GPE, tomorrow: DATE, this night: TIME, Lady Capulet: PERSON, Nurse: GPE, Enter Servants: ORG, Exit First Servant: ORG, Sirrah: GPE, Call Peter: PERSON, Peter: PERSON, Exit: PERSON, merry whoreson: PERSON, loggerhead.—Good: ORG, tis day: DATE, The County: GPE, ho: PERSON, Nurse: PERSON, Nurse: GPE, Juliet: PERSON, Paris: GPE, V. Juliet’s Chamber: PERSON, Juliet: PERSON, NURSE: GPE, Juliet: PERSON, a week: DATE, the next night: TIME, County Paris: ORG, Marry: PERSON, Madam: PERSON, ho: PERSON, Lady Capulet: PERSON, NURSE: GPE, NURSE: GPE, Juliet: PERSON, NURSE: GPE, the day: DATE, the day: DATE, NURSE: GPE, Friar Lawrence: PERSON, Paris: GPE, the night: TIME, PARIS: GPE, this morning: TIME, one: CARDINAL, NURSE: GPE, O day: DATE, PARIS: GPE, beguil’d: GPE, ho: PERSON, Paris: GPE, Lady Capulet: PERSON, Paris: GPE, Friar: PERSON, Faith: PERSON, NURSE: GPE, Honest: ORG, Exit Nurse: PERSON, Peter: PERSON, PETER: PERSON, PETER: PERSON, PETER: PERSON, PETER: PERSON, PETER: PERSON, PETER: PERSON, PETER: PERSON, Simon Catling: PERSON, Marry: PERSON, PETER: PERSON, Hugh Rebeck: GPE, PETER: PERSON, James Soundpost: PERSON, THIRD: ORDINAL, Faith: PERSON, PETER: PERSON, Exit: PERSON, Jack: PERSON, tarry: PERSON, I. Mantua: PERSON, Lifts: NORP, Verona: GPE, Balthasar: PERSON, Juliet: PERSON, Capel’s: ORG, tonight: TIME, Tush: PERSON, thou: GPE, Exit Balthasar: PERSON, Juliet: PERSON, tonight: TIME, tatter’d: CARDINAL, Sharp: ORG, Mantua: GPE, ho: PERSON, APOTHECARY: PRODUCT, forty ducats: QUANTITY, Doth: ORG, APOTHECARY: PRODUCT, Mantua: PERSON, APOTHECARY: PRODUCT, APOTHECARY: PRODUCT, twenty: CARDINAL, thou: GPE, Farewell: PERSON, Juliet: PERSON, Lawrence’s Cell: PERSON, Holy Franciscan Friar: ORG, ho: PERSON, Friar Lawrence: PERSON, Mantua: GPE, Romeo: PERSON, One: CARDINAL, Mantua: ORG, Romeo: NORP, May: DATE, Friar John: PERSON, Exit: PERSON, this three hours: TIME, Juliet: PERSON, Romeo: PRODUCT, Mantua: ORG, Romeo: PRODUCT, Exit: PERSON, Capulets: ORG, Paris: GPE, Page: ORG, PARIS: GPE, Retires: ORG, moans: NORP, Page: ORG, tonight: TIME, Retires: ORG, Romeo: PERSON, Balthasar: GPE, early in the morning: TIME, thou: GPE, Gorg’d: ORG, PARIS: GPE, Montague: PERSON, ’s cousin,—with: PERSON, Montague: PERSON, PARIS: GPE, Exit: PERSON, Falls: PERSON, Juliet: PERSON, Mercutio’s kinsman: PERSON, County Paris: ORG, Paris: GPE, Juliet: PERSON, Said: PERSON, Juliet: PERSON, One: CARDINAL, Juliet: PERSON, Laying Paris: PERSON, Hath: PERSON, Thou: GPE, Beauty’s: PERSON, Juliet: PERSON, Depart: PERSON, Thou: PERSON, Drinks: ORG, Friar Lawrence: PERSON, Saint Francis: PERSON, tonight: TIME, Bliss: PERSON, Capels: ORG, Romeo: PRODUCT, Paris: GPE, Juliet: PERSON, Romeo: PRODUCT, Noise: PERSON, Paris: GPE, Juliet: PERSON, JULIET: PERSON, Exit Friar Lawrence: PERSON, Poison: ORG, JULIET: PERSON, Falls: PERSON, Romeo: PRODUCT, Paris: GPE, Juliet: PERSON, this two days: DATE, Capulets: ORG, Montagues: PERSON, the Watch with Friar Lawrence: ORG, the Prince and Attendants: ORG, PRINCE: PERSON, our morning: TIME, Capulet: PERSON, Lady Capulet: PERSON, Romeo: PRODUCT, Juliet: PERSON, Paris: GPE, PRINCE: PERSON, Sovereign: ORG, County Paris: GPE, Romeo: NORP, Juliet: PERSON, PRINCE: PERSON, Romeo: ORG, Montague: GPE, Enter Montague: PERSON, PRINCE: PERSON, Montague: PERSON, thou: GPE, MONTAGUE: PERSON, tonight: TIME, PRINCE: PERSON, MONTAGUE: PERSON, PRINCE: PERSON, Doth: ORG, PRINCE: PERSON, Juliet: PERSON, Romeo: ORG, Banish’d: PERSON, Tybalt: PERSON, Betroth’d: GPE, Paris: GPE, second: ORDINAL, Romeo: PRODUCT, Friar John: PERSON, the prefixed hour: TIME, Romeo: NORP, some minute: TIME, Paris: GPE, Romeo: NORP, Nurse: GPE, some hour: TIME, PRINCE: PERSON, Where’s Romeo’s: ORG, Juliet: PERSON, Mantua: GPE, PRINCE: PERSON, the County’s Page: GPE, Sirrah: PERSON, PRINCE: PERSON, Juliet: PERSON, Montague: PERSON, Montague: PERSON, MONTAGUE: PERSON, Verona: PERSON, Juliet: PERSON, Romeo: ORG, PRINCE: PERSON, this morning: TIME, Juliet: PERSON, Romeo: PRODUCT, "
     ]
    }
   ],
   "source": [
    "text = Path('RomeoAndJuliet.txt').read_text(encoding='utf-8')\n",
    "dc = nlp(text)\n",
    "\n",
    "for entity in dc.ents:\n",
    "    print(f'{entity.text}: {entity.label_}', end=', ')"
   ]
  },
  {
   "cell_type": "code",
   "execution_count": 45,
   "id": "40426af7-3d37-49f7-82cd-996fe5683aea",
   "metadata": {},
   "outputs": [],
   "source": [
    "text1 = Path('RomeoAndJuliet.txt').read_text(encoding='utf-8')\n",
    "text2 = Path('HayFever.txt').read_text(encoding='utf-8')"
   ]
  },
  {
   "cell_type": "code",
   "execution_count": 48,
   "id": "726b9c93-3911-46b3-a4cc-3f7007a44572",
   "metadata": {},
   "outputs": [
    {
     "name": "stdout",
     "output_type": "stream",
     "text": [
      "0.9210345271611493\n"
     ]
    },
    {
     "name": "stderr",
     "output_type": "stream",
     "text": [
      "/tmp/ipykernel_3905/945149729.py:2: UserWarning: [W007] The model you're using has no word vectors loaded, so the result of the Doc.similarity method will be based on the tagger, parser and NER, which may not give useful similarity judgements. This may happen if you're using one of the small models, e.g. `en_core_web_sm`, which don't ship with word vectors and only use context-sensitive tensors. You can always add your own word vectors, or use one of the larger models instead if available.\n",
      "  print(doc1.similarity(doc2))\n"
     ]
    }
   ],
   "source": [
    "doc1, doc2 = nlp(text1), nlp(text2)\n",
    "print(doc1.similarity(doc2))"
   ]
  }
 ],
 "metadata": {
  "kernelspec": {
   "display_name": "Python 3 (ipykernel)",
   "language": "python",
   "name": "python3"
  },
  "language_info": {
   "codemirror_mode": {
    "name": "ipython",
    "version": 3
   },
   "file_extension": ".py",
   "mimetype": "text/x-python",
   "name": "python",
   "nbconvert_exporter": "python",
   "pygments_lexer": "ipython3",
   "version": "3.11.7"
  }
 },
 "nbformat": 4,
 "nbformat_minor": 5
}
