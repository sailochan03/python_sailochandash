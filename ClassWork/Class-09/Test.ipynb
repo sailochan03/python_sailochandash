{
 "cells": [
  {
   "cell_type": "code",
   "execution_count": 1,
   "id": "4640526c-faf9-44bc-8e44-6359e9666794",
   "metadata": {},
   "outputs": [],
   "source": [
    "#BINARY.PY\n",
    "import numpy as np\n",
    "def binary_search(data,key):\n",
    "        low = 0\n",
    "        high = len(data)-1\n",
    "        mid = (low + high +1)//2\n",
    "        location = -1\n",
    "        while low <= high and location == -1:\n",
    "            if key == data[mid]:\n",
    "                location = mid\n",
    "            elif key < data[mid]:\n",
    "                high = mid -1\n",
    "            else:\n",
    "                low = mid + 1\n",
    "            mid = (low + high + 1)//2\n",
    "        return location "
   ]
  },
  {
   "cell_type": "code",
   "execution_count": 2,
   "id": "74384049-3dff-49a4-b5b8-5a94a545888d",
   "metadata": {},
   "outputs": [
    {
     "name": "stdout",
     "output_type": "stream",
     "text": [
      "Unsorted Data : [20 36 39 43 63 64 74 75 86 90]\n"
     ]
    },
    {
     "name": "stdin",
     "output_type": "stream",
     "text": [
      "Enter a key u want to locate (-1 to quit):  -1\n"
     ]
    }
   ],
   "source": [
    "def main():\n",
    "        data = np.random.randint(11,101,10)\n",
    "        data.sort()\n",
    "        print(f\"Unsorted Data : {data}\")\n",
    "        key = int(input(\"Enter a key u want to locate (-1 to quit): \"))\n",
    "        while key != -1:\n",
    "            loc = binary_search(data,key)\n",
    "            if loc != -1:\n",
    "                print(f\"Key {key} is located at pos {loc +1}\")\n",
    "            else:\n",
    "                print(f\"Key {key} is not in the list\")\n",
    "            key = int(input(\"Enter a key u want to locate (-1 to quit): \"))\n",
    "if __name__ == \"__main__\":\n",
    "    main()"
   ]
  },
  {
   "cell_type": "code",
   "execution_count": 3,
   "id": "c9b41aaa-e333-4ffa-8c60-2581931ca1f5",
   "metadata": {},
   "outputs": [],
   "source": [
    "#selection.py\n",
    "def selection_sort(arr):\n",
    "    n = len(arr)\n",
    "    \n",
    "    for i in range(n):\n",
    "        min_index = i\n",
    "        for j in range(i + 1, n):\n",
    "            if arr[j] < arr[min_index]:\n",
    "                min_index = j\n",
    "\n",
    "        arr[i], arr[min_index] = arr[min_index], arr[i]"
   ]
  },
  {
   "cell_type": "code",
   "execution_count": 5,
   "id": "1a1cc928-a876-4a97-89f1-b3e2cca9a8fb",
   "metadata": {},
   "outputs": [
    {
     "name": "stdout",
     "output_type": "stream",
     "text": [
      "Unsorted array:  [64, 25, 12, 22, 11]\n",
      "Sorted array: [11, 12, 22, 25, 64]\n"
     ]
    }
   ],
   "source": [
    "arr = [64, 25, 12, 22, 11]\n",
    "print(\"Unsorted array: \", arr)\n",
    "selection_sort(arr)\n",
    "print(\"Sorted array:\", arr)"
   ]
  },
  {
   "cell_type": "code",
   "execution_count": 6,
   "id": "cffb94f9-04c8-4a44-9114-01314ee3f051",
   "metadata": {},
   "outputs": [],
   "source": [
    "def insertion_sort(data):\n",
    "    for i in range(1, len(data)):\n",
    "        key = data[i]\n",
    "        j = i - 1\n",
    "        while j >= 0 and data[j] > key:\n",
    "            data[j + 1] = data[j]\n",
    "            j -= 1\n",
    "        data[j + 1] = key\n",
    "        print(f\"Step {i}: {' '.join(str(v) for v in data)}\")"
   ]
  },
  {
   "cell_type": "code",
   "execution_count": 8,
   "id": "457e3406-f576-4c38-a28d-7186e7dd8daa",
   "metadata": {},
   "outputs": [
    {
     "name": "stdout",
     "output_type": "stream",
     "text": [
      "Step 1: 11 12 13 5 6\n",
      "Step 2: 11 12 13 5 6\n",
      "Step 3: 5 11 12 13 6\n",
      "Step 4: 5 6 11 12 13\n"
     ]
    }
   ],
   "source": [
    "data = [12, 11, 13, 5, 6]\n",
    "insertion_sort(data)"
   ]
  }
 ],
 "metadata": {
  "kernelspec": {
   "display_name": "Python 3 (ipykernel)",
   "language": "python",
   "name": "python3"
  },
  "language_info": {
   "codemirror_mode": {
    "name": "ipython",
    "version": 3
   },
   "file_extension": ".py",
   "mimetype": "text/x-python",
   "name": "python",
   "nbconvert_exporter": "python",
   "pygments_lexer": "ipython3",
   "version": "3.11.7"
  }
 },
 "nbformat": 4,
 "nbformat_minor": 5
}
