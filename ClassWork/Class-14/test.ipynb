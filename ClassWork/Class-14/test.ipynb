{
 "cells": [
  {
   "cell_type": "code",
   "execution_count": 2,
   "metadata": {},
   "outputs": [],
   "source": [
    "import requests\n",
    "import keys"
   ]
  },
  {
   "cell_type": "code",
   "execution_count": 6,
   "metadata": {},
   "outputs": [
    {
     "name": "stdout",
     "output_type": "stream",
     "text": [
      "AAAAAAAAAAAAAAAAAAAAAI%2B90AEAAAAA3uGJcbUNgg27M%2Bzovam%2F%2FOOdjVc%3DSRQwF9bvxfqZ6r2Cl7UP5IRLQGCNpeCnzzak5gDtqXiPcKaGlt\n"
     ]
    }
   ],
   "source": [
    "bearer_token = 'AAAAAAAAAAAAAAAAAAAAAI%2B90AEAAAAA3uGJcbUNgg27M%2Bzovam%2F%2FOOdjVc%3DSRQwF9bvxfqZ6r2Cl7UP5IRLQGCNpeCnzzak5gDtqXiPcKaGlt'\n",
    "print(bearer_token)\n",
    "def get_user_info(username):\n",
    "    url = f'https://api.twitter.com/2/users/by/username/{username}?user.fields=id,name,username,description,public_metrics'\n",
    "    headers = {\"Authorization\": f\"Bearer {bearer_token}\"}\n",
    "    response = requests.get(url, headers = headers)\n",
    "    if response.status_code == 200:\n",
    "        user_data = response.json()['data']\n",
    "        print(\"User ID: \", user_data['id'])\n",
    "        print(\"User Name: \", user_data['name'])\n",
    "        print(\"Screen Name: \", user_data['username'])\n",
    "        print(\"Followers Count: \", user_data['public_metrics']['followers_count'])\n",
    "    else:\n",
    "        print(\"ERROR: \", response.status_code, response.text)\n"
   ]
  },
  {
   "cell_type": "code",
   "execution_count": 7,
   "metadata": {},
   "outputs": [
    {
     "name": "stdout",
     "output_type": "stream",
     "text": [
      "User ID:  1904778547602087936\n",
      "User Name:  SMiX\n",
      "Screen Name:  sssmixxx\n",
      "Followers Count:  0\n"
     ]
    }
   ],
   "source": [
    "get_user_info('sssmixxx')"
   ]
  }
 ],
 "metadata": {
  "kernelspec": {
   "display_name": "Python 3",
   "language": "python",
   "name": "python3"
  },
  "language_info": {
   "codemirror_mode": {
    "name": "ipython",
    "version": 3
   },
   "file_extension": ".py",
   "mimetype": "text/x-python",
   "name": "python",
   "nbconvert_exporter": "python",
   "pygments_lexer": "ipython3",
   "version": "3.12.4"
  }
 },
 "nbformat": 4,
 "nbformat_minor": 2
}
