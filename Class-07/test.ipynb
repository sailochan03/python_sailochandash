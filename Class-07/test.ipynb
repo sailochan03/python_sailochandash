{
 "cells": [
  {
   "cell_type": "code",
   "execution_count": 3,
   "metadata": {},
   "outputs": [
    {
     "name": "stdout",
     "output_type": "stream",
     "text": [
      "Program is Running ...\n",
      "SystemExit is caught\n"
     ]
    }
   ],
   "source": [
    "import sys\n",
    "\n",
    "try:\n",
    "    print('Program is Running ...')\n",
    "    sys.exit()\n",
    "except SystemExit:\n",
    "    print('SystemExit is caught')"
   ]
  },
  {
   "cell_type": "code",
   "execution_count": 2,
   "metadata": {},
   "outputs": [],
   "source": [
    "try:\n",
    "    while True:\n",
    "        print('The program is running ... Press \"Ctrl + C\" to exit')\n",
    "except KeyboardInterrupt:\n",
    "    print('Keyboard Interrupt is caught')"
   ]
  },
  {
   "cell_type": "code",
   "execution_count": 4,
   "metadata": {},
   "outputs": [
    {
     "name": "stdout",
     "output_type": "stream",
     "text": [
      "0\n",
      "1\n",
      "2\n",
      "GeneratorExit exception caught\n"
     ]
    }
   ],
   "source": [
    "def gen():\n",
    "    try:\n",
    "        for i in range(10):\n",
    "            yield i\n",
    "    except GeneratorExit:\n",
    "        print('GeneratorExit exception caught')\n",
    "\n",
    "g = gen()\n",
    "\n",
    "print(next(g))\n",
    "print(next(g))\n",
    "print(next(g))\n",
    "\n",
    "g.close()"
   ]
  }
 ],
 "metadata": {
  "kernelspec": {
   "display_name": "Python 3",
   "language": "python",
   "name": "python3"
  },
  "language_info": {
   "codemirror_mode": {
    "name": "ipython",
    "version": 3
   },
   "file_extension": ".py",
   "mimetype": "text/x-python",
   "name": "python",
   "nbconvert_exporter": "python",
   "pygments_lexer": "ipython3",
   "version": "3.8.10"
  }
 },
 "nbformat": 4,
 "nbformat_minor": 2
}
