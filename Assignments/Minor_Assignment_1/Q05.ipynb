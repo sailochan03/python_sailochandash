{
 "cells": [
  {
   "cell_type": "code",
   "execution_count": null,
   "metadata": {},
   "outputs": [],
   "source": [
    "import re\n",
    "\n",
    "class Time:\n",
    "    def __init__(self, time_str):\n",
    "        self.time_str = time_str\n",
    "        self.hours, self.minutes, self.seconds = self.is_valid_time()\n",
    "\n",
    "    def is_valid_time(self):\n",
    "        time_pattern = r'^(2[0-3]|[0-1]?[0-9]):([0-5]?[0-9]):([0-5]?[0-9])$'\n",
    "        match = re.match(time_pattern, self.time_str)\n",
    "        if match:\n",
    "            return map(int, match.groups())\n",
    "        return None, None, None\n",
    "\n",
    "    def convert_to_12_hour_format(self):\n",
    "        if self.hours is None:\n",
    "            return \"Invalid time format\"\n",
    "\n",
    "        period = \"AM\" if self.hours < 12 else \"PM\"\n",
    "        hours_12 = self.hours % 12 or 12  # Convert 0 or 12 to 12\n",
    "\n",
    "        return f\"{hours_12}:{self.minutes:02d}:{self.seconds:02d} {period}\"\n",
    "\n",
    "\n",
    "time_input = input(\"Enter time in HH:MM:SS format (24-hour): \")\n",
    "time_obj = Time(time_input)\n",
    "\n",
    "if time_obj.hours is not None:\n",
    "    print(\"Converted time in 12-hour format:\", time_obj.convert_to_12_hour_format())\n",
    "else:\n",
    "    print(\"Invalid time format. Please enter time in HH:MM:SS format.\")\n"
   ]
  }
 ],
 "metadata": {
  "kernelspec": {
   "display_name": "Python 3",
   "language": "python",
   "name": "python3"
  },
  "language_info": {
   "codemirror_mode": {
    "name": "ipython",
    "version": 3
   },
   "file_extension": ".py",
   "mimetype": "text/x-python",
   "name": "python",
   "nbconvert_exporter": "python",
   "pygments_lexer": "ipython3",
   "version": "3.12.4"
  }
 },
 "nbformat": 4,
 "nbformat_minor": 2
}
