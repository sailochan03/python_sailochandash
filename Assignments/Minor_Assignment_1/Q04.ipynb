{
 "cells": [
  {
   "cell_type": "code",
   "execution_count": null,
   "metadata": {},
   "outputs": [],
   "source": [
    "'''\n",
    "(Q4) How does Python enforce access control to class attributes, and what is the difference between public,\n",
    "protected, and private attributes?\n",
    "\n",
    "In Python, access control to class attributes is enforced using naming conventions rather than strict enforcement like some other programming languages. Python uses public, protected, and private attribute conventions, which are not strictly enforced by the language but rely on the programmer’s adherence to these naming conventions.\n",
    "\n",
    "Public Attributes:\n",
    "    -> Accessible from anywhere (inside and outside the class).\n",
    "    -> No leading underscore (attribute).\n",
    "\n",
    "Protected Attributes:\n",
    "    -> Meant for internal use within the class and subclasses, not to be accessed directly outside the class.\n",
    "    -> Single leading underscore (_attribute).\n",
    "\n",
    "Private Attributes:\n",
    "    -> Intended for internal use only within the class, and Python name-mangles them to make access harder outside the class.\n",
    "    -> Double leading underscore (__attribute).\n",
    "    -> Private attributes can be accessed through name mangling but should not be used outside the class.\n",
    "'''"
   ]
  }
 ],
 "metadata": {
  "language_info": {
   "name": "python"
  }
 },
 "nbformat": 4,
 "nbformat_minor": 2
}
