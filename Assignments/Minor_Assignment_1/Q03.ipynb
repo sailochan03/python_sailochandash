{
 "cells": [
  {
   "cell_type": "code",
   "execution_count": null,
   "metadata": {},
   "outputs": [],
   "source": [
    "'''\n",
    "(Q3) Create a Book class that contains multiple Chapters, where each Chapter has a title and page count.\n",
    "Write code to initialize a Book object with three chapters and display the total page count of the book.\n",
    "'''"
   ]
  },
  {
   "cell_type": "code",
   "execution_count": 1,
   "metadata": {},
   "outputs": [
    {
     "name": "stdout",
     "output_type": "stream",
     "text": [
      "Total pages in 'The Phoenix Of Destiny': 119\n"
     ]
    }
   ],
   "source": [
    "class Chapter:\n",
    "    def __init__(self, title, pages):\n",
    "        self.title = title\n",
    "        self.pages = pages\n",
    "\n",
    "class Book:\n",
    "    def __init__(self, title):\n",
    "        self.title = title\n",
    "        self.chapters = []\n",
    "\n",
    "    def add_chapter(self, chapter):\n",
    "        self.chapters.append(chapter)\n",
    "\n",
    "    def get_total_pages(self):\n",
    "        return sum(chapter.pages for chapter in self.chapters)\n",
    "    \n",
    "\n",
    "book1 = Book('The Phoenix Of Destiny')\n",
    "book1.add_chapter(Chapter('Enchanter City', 45))\n",
    "book1.add_chapter(Chapter('Crocodile Tears', 32))\n",
    "book1.add_chapter(Chapter('Vampire Alley', 42))\n",
    "\n",
    "print(f\"Total pages in '{book1.title}': {book1.get_total_pages()}\")"
   ]
  }
 ],
 "metadata": {
  "kernelspec": {
   "display_name": "Python 3",
   "language": "python",
   "name": "python3"
  },
  "language_info": {
   "codemirror_mode": {
    "name": "ipython",
    "version": 3
   },
   "file_extension": ".py",
   "mimetype": "text/x-python",
   "name": "python",
   "nbconvert_exporter": "python",
   "pygments_lexer": "ipython3",
   "version": "3.12.4"
  }
 },
 "nbformat": 4,
 "nbformat_minor": 2
}
