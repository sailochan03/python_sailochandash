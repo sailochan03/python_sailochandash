{
 "cells": [
  {
   "cell_type": "code",
   "execution_count": null,
   "metadata": {},
   "outputs": [],
   "source": [
    "'''\n",
    "(Q1)What is the significance of classes in Python programming, and how do they contribute to objectoriented\n",
    "programming?\n",
    "\n",
    "- Classes in Python define blueprints for objects, encapsulating data and behavior.\n",
    "- They enable object-oriented programming by supporting inheritance, polymorphism, and encapsulation,\n",
    " promoting code reusability, modularity and maintainability, making complex systems more manageable and scalable.\n",
    "'''"
   ]
  }
 ],
 "metadata": {
  "language_info": {
   "name": "python"
  }
 },
 "nbformat": 4,
 "nbformat_minor": 2
}
